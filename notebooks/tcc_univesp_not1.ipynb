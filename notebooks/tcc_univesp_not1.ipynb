{
 "cells": [
  {
   "cell_type": "markdown",
   "metadata": {},
   "source": [
    "# Trablho de Conclusão de Curso - UNIVESP - 1S/2025- Notebook1"
   ]
  },
  {
   "cell_type": "markdown",
   "metadata": {},
   "source": [
    "# Código: tcc530-sala-002grupo-002"
   ]
  },
  {
   "cell_type": "markdown",
   "metadata": {},
   "source": [
    "## 1.0 Packges"
   ]
  },
  {
   "cell_type": "markdown",
   "metadata": {},
   "source": [
    "### Packges Import"
   ]
  },
  {
   "cell_type": "code",
   "execution_count": 1,
   "metadata": {
    "executionInfo": {
     "elapsed": 2593,
     "status": "ok",
     "timestamp": 1739237469924,
     "user": {
      "displayName": "Felipe Silva",
      "userId": "04798968727763788783"
     },
     "user_tz": 180
    },
    "id": "VK3zJVi_mmB2"
   },
   "outputs": [],
   "source": [
    "# Packages\n",
    "import numpy                   as np\n",
    "import pandas                  as pd\n",
    "import sys"
   ]
  },
  {
   "cell_type": "markdown",
   "metadata": {},
   "source": [
    "### Packges Version Control"
   ]
  },
  {
   "cell_type": "code",
   "execution_count": 8,
   "metadata": {
    "executionInfo": {
     "elapsed": 1658,
     "status": "ok",
     "timestamp": 1739237531475,
     "user": {
      "displayName": "Felipe Silva",
      "userId": "04798968727763788783"
     },
     "user_tz": 180
    },
    "id": "GFxtDAUZm_Y4"
   },
   "outputs": [
    {
     "name": "stdout",
     "output_type": "stream",
     "text": [
      "Note: you may need to restart the kernel to use updated packages.\n"
     ]
    }
   ],
   "source": [
    "pip freeze --local > ../requeriments_not1.txt"
   ]
  },
  {
   "cell_type": "markdown",
   "metadata": {},
   "source": [
    "## 2.0 Data Read"
   ]
  },
  {
   "cell_type": "code",
   "execution_count": 3,
   "metadata": {
    "colab": {
     "base_uri": "https://localhost:8080/"
    },
    "executionInfo": {
     "elapsed": 101594,
     "status": "ok",
     "timestamp": 1739238310952,
     "user": {
      "displayName": "Felipe Silva",
      "userId": "04798968727763788783"
     },
     "user_tz": 180
    },
    "id": "oVGqMqLonq_I",
    "outputId": "2e212bae-8525-4297-d836-47ad204bab4b"
   },
   "outputs": [
    {
     "name": "stderr",
     "output_type": "stream",
     "text": [
      "/tmp/ipykernel_181387/1855454533.py:2: DtypeWarning: Columns (22) have mixed types. Specify dtype option on import or set low_memory=False.\n",
      "  df2014 = pd.read_csv(link,sep=\",\")\n",
      "/tmp/ipykernel_181387/1855454533.py:5: DtypeWarning: Columns (44,85,101) have mixed types. Specify dtype option on import or set low_memory=False.\n",
      "  df2015 = pd.read_csv(link,sep=\",\")\n",
      "/tmp/ipykernel_181387/1855454533.py:8: DtypeWarning: Columns (6,10,18,22,44,45,46,54,64,68,74,85,101) have mixed types. Specify dtype option on import or set low_memory=False.\n",
      "  df2016 = pd.read_csv(link,sep=\",\")\n",
      "/tmp/ipykernel_181387/1855454533.py:11: DtypeWarning: Columns (46,101) have mixed types. Specify dtype option on import or set low_memory=False.\n",
      "  df2017 = pd.read_csv(link,sep=\",\")\n",
      "/tmp/ipykernel_181387/1855454533.py:14: DtypeWarning: Columns (45,46,101) have mixed types. Specify dtype option on import or set low_memory=False.\n",
      "  df2018 = pd.read_csv(link,sep=\",\")\n",
      "/tmp/ipykernel_181387/1855454533.py:17: DtypeWarning: Columns (44,46) have mixed types. Specify dtype option on import or set low_memory=False.\n",
      "  df2019 = pd.read_csv(link,sep=\",\")\n",
      "/tmp/ipykernel_181387/1855454533.py:20: DtypeWarning: Columns (44,46) have mixed types. Specify dtype option on import or set low_memory=False.\n",
      "  df2020 = pd.read_csv(link,sep=\",\")\n",
      "/tmp/ipykernel_181387/1855454533.py:23: DtypeWarning: Columns (22,44,46,101) have mixed types. Specify dtype option on import or set low_memory=False.\n",
      "  df2021 = pd.read_csv(link,sep=\",\")\n",
      "/tmp/ipykernel_181387/1855454533.py:26: DtypeWarning: Columns (44,46) have mixed types. Specify dtype option on import or set low_memory=False.\n",
      "  df2022 = pd.read_csv(link,sep=\",\")\n",
      "/tmp/ipykernel_181387/1855454533.py:29: DtypeWarning: Columns (44,46,54) have mixed types. Specify dtype option on import or set low_memory=False.\n",
      "  df2023 = pd.read_csv(link,sep=\",\")\n"
     ]
    }
   ],
   "source": [
    "link   = '../dados/dados_filtrados_2014.csv'\n",
    "df2014 = pd.read_csv(link,sep=\",\")\n",
    "\n",
    "link   = '../dados/dados_filtrados_2015.csv'\n",
    "df2015 = pd.read_csv(link,sep=\",\")\n",
    "\n",
    "link   = '../dados/dados_filtrados_2016.csv'\n",
    "df2016 = pd.read_csv(link,sep=\",\")\n",
    "\n",
    "link   = '../dados/dados_filtrados_2017.csv'\n",
    "df2017 = pd.read_csv(link,sep=\",\")\n",
    "\n",
    "link   = '../dados/dados_filtrados_2018.csv'\n",
    "df2018 = pd.read_csv(link,sep=\",\")\n",
    "\n",
    "link   = '../dados/dados_filtrados_2019.csv'\n",
    "df2019 = pd.read_csv(link,sep=\",\")\n",
    "\n",
    "link   = '../dados/dados_filtrados_2020.csv'\n",
    "df2020 = pd.read_csv(link,sep=\",\")\n",
    "\n",
    "link   = '../dados/dados_filtrados_2021.csv'\n",
    "df2021 = pd.read_csv(link,sep=\",\")\n",
    "\n",
    "link   = '../dados/dados_filtrados_2022.csv'\n",
    "df2022 = pd.read_csv(link,sep=\",\")\n",
    "\n",
    "link   = '../dados/dados_filtrados_2023.csv'\n",
    "df2023 = pd.read_csv(link,sep=\",\")"
   ]
  },
  {
   "cell_type": "markdown",
   "metadata": {},
   "source": [
    "## 3.0 Data Join"
   ]
  },
  {
   "cell_type": "code",
   "execution_count": 5,
   "metadata": {
    "executionInfo": {
     "elapsed": 890,
     "status": "ok",
     "timestamp": 1739238791731,
     "user": {
      "displayName": "Felipe Silva",
      "userId": "04798968727763788783"
     },
     "user_tz": 180
    },
    "id": "2CLoW4GDs7AZ"
   },
   "outputs": [],
   "source": [
    "df2021 = df2021.rename(columns={\"ANO_NASC\": \"DT_NASC\"})\n",
    "df2022 = df2022.rename(columns={\"ANO_NASC\": \"DT_NASC\"})\n",
    "df2023 = df2023.rename(columns={\"ANO_NASC\": \"DT_NASC\"})\n",
    "df_full = pd.concat([df2014, df2015,df2016,df2017,df2018,df2019,df2020,df2021,df2022,df2023], axis=0, ignore_index=True)"
   ]
  },
  {
   "cell_type": "code",
   "execution_count": 7,
   "metadata": {},
   "outputs": [],
   "source": [
    "link   = '../dados/dados_join.csv'\n",
    "df_full.to_csv(link, index=False)  "
   ]
  }
 ],
 "metadata": {
  "colab": {
   "authorship_tag": "ABX9TyPGDooIhM2rQta2Rk8x0YbZ",
   "provenance": []
  },
  "kernelspec": {
   "display_name": "Python 3 (ipykernel)",
   "language": "python",
   "name": "python3"
  },
  "language_info": {
   "codemirror_mode": {
    "name": "ipython",
    "version": 3
   },
   "file_extension": ".py",
   "mimetype": "text/x-python",
   "name": "python",
   "nbconvert_exporter": "python",
   "pygments_lexer": "ipython3",
   "version": "3.12.7"
  }
 },
 "nbformat": 4,
 "nbformat_minor": 4
}
