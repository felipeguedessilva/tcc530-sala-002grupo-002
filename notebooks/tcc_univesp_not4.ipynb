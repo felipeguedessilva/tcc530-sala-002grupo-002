{
 "cells": [
  {
   "cell_type": "markdown",
   "metadata": {},
   "source": [
    "# Trablho de Conclusão de Curso - UNIVESP - 1S/2025- Notebook 4"
   ]
  },
  {
   "cell_type": "markdown",
   "metadata": {},
   "source": [
    "# Código: tcc530-sala-002grupo-002"
   ]
  },
  {
   "cell_type": "markdown",
   "metadata": {},
   "source": [
    "## 1.0 Packges"
   ]
  },
  {
   "cell_type": "markdown",
   "metadata": {},
   "source": [
    "### Packges Import"
   ]
  },
  {
   "cell_type": "code",
   "execution_count": 1,
   "metadata": {
    "executionInfo": {
     "elapsed": 2593,
     "status": "ok",
     "timestamp": 1739237469924,
     "user": {
      "displayName": "Felipe Silva",
      "userId": "04798968727763788783"
     },
     "user_tz": 180
    },
    "id": "VK3zJVi_mmB2"
   },
   "outputs": [],
   "source": [
    "# Packages\n",
    "\n",
    "# Bibliotecas Gerais\n",
    "import numpy                   as np\n",
    "import pandas                  as pd\n",
    "import matplotlib.pyplot       as plt\n",
    "import seaborn                 as sns\n",
    "from pandas import to_datetime\n",
    "\n",
    "# Bibliotecas de Séries Temporais\n",
    "from prophet import Prophet\n",
    "from sklearn.metrics import mean_absolute_error\n",
    "from scipy.stats import uniform\n",
    "from prophet import Prophet\n",
    "from mango import scheduler, Tuner"
   ]
  },
  {
   "cell_type": "markdown",
   "metadata": {},
   "source": [
    "### Packges Version Control"
   ]
  },
  {
   "cell_type": "code",
   "execution_count": 2,
   "metadata": {
    "executionInfo": {
     "elapsed": 1658,
     "status": "ok",
     "timestamp": 1739237531475,
     "user": {
      "displayName": "Felipe Silva",
      "userId": "04798968727763788783"
     },
     "user_tz": 180
    },
    "id": "GFxtDAUZm_Y4"
   },
   "outputs": [
    {
     "name": "stdout",
     "output_type": "stream",
     "text": [
      "Note: you may need to restart the kernel to use updated packages.\n"
     ]
    }
   ],
   "source": [
    "pip freeze --local > ../requeriments_not4.txt"
   ]
  },
  {
   "cell_type": "markdown",
   "metadata": {},
   "source": [
    "## 2.0 Data Read"
   ]
  },
  {
   "cell_type": "code",
   "execution_count": 3,
   "metadata": {
    "colab": {
     "base_uri": "https://localhost:8080/"
    },
    "executionInfo": {
     "elapsed": 101594,
     "status": "ok",
     "timestamp": 1739238310952,
     "user": {
      "displayName": "Felipe Silva",
      "userId": "04798968727763788783"
     },
     "user_tz": 180
    },
    "id": "oVGqMqLonq_I",
    "outputId": "2e212bae-8525-4297-d836-47ad204bab4b"
   },
   "outputs": [],
   "source": [
    "link   = '../dados/dados_ts.csv'\n",
    "df_ts = pd.read_csv(link,sep=\",\",low_memory=False)"
   ]
  },
  {
   "cell_type": "code",
   "execution_count": 4,
   "metadata": {},
   "outputs": [
    {
     "data": {
      "text/html": [
       "<div>\n",
       "<style scoped>\n",
       "    .dataframe tbody tr th:only-of-type {\n",
       "        vertical-align: middle;\n",
       "    }\n",
       "\n",
       "    .dataframe tbody tr th {\n",
       "        vertical-align: top;\n",
       "    }\n",
       "\n",
       "    .dataframe thead th {\n",
       "        text-align: right;\n",
       "    }\n",
       "</style>\n",
       "<table border=\"1\" class=\"dataframe\">\n",
       "  <thead>\n",
       "    <tr style=\"text-align: right;\">\n",
       "      <th></th>\n",
       "      <th>MUNICIPIO</th>\n",
       "      <th>REGIAO</th>\n",
       "      <th>DT_NOTIFIC</th>\n",
       "      <th>Ano da notificação</th>\n",
       "      <th>Classificação final do caso</th>\n",
       "    </tr>\n",
       "  </thead>\n",
       "  <tbody>\n",
       "    <tr>\n",
       "      <th>0</th>\n",
       "      <td>Mairiporã</td>\n",
       "      <td>São Paulo</td>\n",
       "      <td>2014-03-17</td>\n",
       "      <td>2014</td>\n",
       "      <td>1</td>\n",
       "    </tr>\n",
       "    <tr>\n",
       "      <th>1</th>\n",
       "      <td>Campinas</td>\n",
       "      <td>Campinas</td>\n",
       "      <td>2014-05-12</td>\n",
       "      <td>2014</td>\n",
       "      <td>1</td>\n",
       "    </tr>\n",
       "    <tr>\n",
       "      <th>2</th>\n",
       "      <td>São Paulo</td>\n",
       "      <td>São Paulo</td>\n",
       "      <td>2014-04-21</td>\n",
       "      <td>2014</td>\n",
       "      <td>1</td>\n",
       "    </tr>\n",
       "    <tr>\n",
       "      <th>3</th>\n",
       "      <td>São Paulo</td>\n",
       "      <td>São Paulo</td>\n",
       "      <td>2014-04-23</td>\n",
       "      <td>2014</td>\n",
       "      <td>1</td>\n",
       "    </tr>\n",
       "    <tr>\n",
       "      <th>4</th>\n",
       "      <td>Campinas</td>\n",
       "      <td>Campinas</td>\n",
       "      <td>2014-05-14</td>\n",
       "      <td>2014</td>\n",
       "      <td>1</td>\n",
       "    </tr>\n",
       "  </tbody>\n",
       "</table>\n",
       "</div>"
      ],
      "text/plain": [
       "   MUNICIPIO     REGIAO  DT_NOTIFIC  Ano da notificação  \\\n",
       "0  Mairiporã  São Paulo  2014-03-17                2014   \n",
       "1   Campinas   Campinas  2014-05-12                2014   \n",
       "2  São Paulo  São Paulo  2014-04-21                2014   \n",
       "3  São Paulo  São Paulo  2014-04-23                2014   \n",
       "4   Campinas   Campinas  2014-05-14                2014   \n",
       "\n",
       "   Classificação final do caso  \n",
       "0                            1  \n",
       "1                            1  \n",
       "2                            1  \n",
       "3                            1  \n",
       "4                            1  "
      ]
     },
     "execution_count": 4,
     "metadata": {},
     "output_type": "execute_result"
    }
   ],
   "source": [
    "df_ts.head(5)"
   ]
  },
  {
   "cell_type": "markdown",
   "metadata": {},
   "source": [
    "## 3.0 Data Preparing"
   ]
  },
  {
   "cell_type": "markdown",
   "metadata": {},
   "source": [
    "### 3.1 SP - Full"
   ]
  },
  {
   "cell_type": "code",
   "execution_count": 5,
   "metadata": {},
   "outputs": [
    {
     "data": {
      "text/html": [
       "<div>\n",
       "<style scoped>\n",
       "    .dataframe tbody tr th:only-of-type {\n",
       "        vertical-align: middle;\n",
       "    }\n",
       "\n",
       "    .dataframe tbody tr th {\n",
       "        vertical-align: top;\n",
       "    }\n",
       "\n",
       "    .dataframe thead th {\n",
       "        text-align: right;\n",
       "    }\n",
       "</style>\n",
       "<table border=\"1\" class=\"dataframe\">\n",
       "  <thead>\n",
       "    <tr style=\"text-align: right;\">\n",
       "      <th></th>\n",
       "      <th>ds</th>\n",
       "      <th>y</th>\n",
       "    </tr>\n",
       "  </thead>\n",
       "  <tbody>\n",
       "    <tr>\n",
       "      <th>0</th>\n",
       "      <td>2013-12-29</td>\n",
       "      <td>2</td>\n",
       "    </tr>\n",
       "    <tr>\n",
       "      <th>1</th>\n",
       "      <td>2013-12-30</td>\n",
       "      <td>5</td>\n",
       "    </tr>\n",
       "    <tr>\n",
       "      <th>2</th>\n",
       "      <td>2014-01-01</td>\n",
       "      <td>3</td>\n",
       "    </tr>\n",
       "    <tr>\n",
       "      <th>3</th>\n",
       "      <td>2014-01-02</td>\n",
       "      <td>23</td>\n",
       "    </tr>\n",
       "    <tr>\n",
       "      <th>4</th>\n",
       "      <td>2014-01-03</td>\n",
       "      <td>27</td>\n",
       "    </tr>\n",
       "  </tbody>\n",
       "</table>\n",
       "</div>"
      ],
      "text/plain": [
       "          ds   y\n",
       "0 2013-12-29   2\n",
       "1 2013-12-30   5\n",
       "2 2014-01-01   3\n",
       "3 2014-01-02  23\n",
       "4 2014-01-03  27"
      ]
     },
     "execution_count": 5,
     "metadata": {},
     "output_type": "execute_result"
    }
   ],
   "source": [
    "df_sp_full = df_ts.groupby(['DT_NOTIFIC'])['Classificação final do caso'].sum().reset_index()\n",
    "df_sp_full.columns = ['ds','y']\n",
    "df_sp_full['ds']= to_datetime(df_sp_full['ds'])\n",
    "df_sp_full.head(5)"
   ]
  },
  {
   "cell_type": "markdown",
   "metadata": {},
   "source": [
    "## 3.2 Por Regiões - SP"
   ]
  },
  {
   "cell_type": "code",
   "execution_count": 6,
   "metadata": {},
   "outputs": [
    {
     "data": {
      "text/plain": [
       "array(['São Paulo', 'Campinas', 'São José dos Campos', 'Araçatuba',\n",
       "       'São José do Rio Preto', 'Araraquara', 'Bauru', 'Marília',\n",
       "       'Ribeirão Preto', 'Presidente Prudente', 'Sorocaba'], dtype=object)"
      ]
     },
     "execution_count": 6,
     "metadata": {},
     "output_type": "execute_result"
    }
   ],
   "source": [
    "regioes = df_ts['REGIAO'].unique()\n",
    "regioes"
   ]
  },
  {
   "cell_type": "code",
   "execution_count": 7,
   "metadata": {},
   "outputs": [
    {
     "data": {
      "text/html": [
       "<div>\n",
       "<style scoped>\n",
       "    .dataframe tbody tr th:only-of-type {\n",
       "        vertical-align: middle;\n",
       "    }\n",
       "\n",
       "    .dataframe tbody tr th {\n",
       "        vertical-align: top;\n",
       "    }\n",
       "\n",
       "    .dataframe thead th {\n",
       "        text-align: right;\n",
       "    }\n",
       "</style>\n",
       "<table border=\"1\" class=\"dataframe\">\n",
       "  <thead>\n",
       "    <tr style=\"text-align: right;\">\n",
       "      <th></th>\n",
       "      <th>Data</th>\n",
       "      <th>NN</th>\n",
       "    </tr>\n",
       "  </thead>\n",
       "  <tbody>\n",
       "    <tr>\n",
       "      <th>0</th>\n",
       "      <td>2013-12-29</td>\n",
       "      <td>2</td>\n",
       "    </tr>\n",
       "    <tr>\n",
       "      <th>1</th>\n",
       "      <td>2013-12-30</td>\n",
       "      <td>5</td>\n",
       "    </tr>\n",
       "    <tr>\n",
       "      <th>2</th>\n",
       "      <td>2014-01-01</td>\n",
       "      <td>3</td>\n",
       "    </tr>\n",
       "    <tr>\n",
       "      <th>3</th>\n",
       "      <td>2014-01-02</td>\n",
       "      <td>23</td>\n",
       "    </tr>\n",
       "    <tr>\n",
       "      <th>4</th>\n",
       "      <td>2014-01-03</td>\n",
       "      <td>27</td>\n",
       "    </tr>\n",
       "  </tbody>\n",
       "</table>\n",
       "</div>"
      ],
      "text/plain": [
       "         Data  NN\n",
       "0  2013-12-29   2\n",
       "1  2013-12-30   5\n",
       "2  2014-01-01   3\n",
       "3  2014-01-02  23\n",
       "4  2014-01-03  27"
      ]
     },
     "execution_count": 7,
     "metadata": {},
     "output_type": "execute_result"
    }
   ],
   "source": [
    "mask = df_ts['REGIAO'] == 'São Paulo'\n",
    "dftemp = df_ts[mask]\n",
    "df = df_ts.groupby(['DT_NOTIFIC'])['Classificação final do caso'].sum().reset_index()\n",
    "df.columns = ['Data','NN']\n",
    "df.head(5)"
   ]
  },
  {
   "cell_type": "markdown",
   "metadata": {},
   "source": [
    "## 4.0 ML Models"
   ]
  },
  {
   "cell_type": "markdown",
   "metadata": {},
   "source": [
    "### 4.1 SP - Full"
   ]
  },
  {
   "cell_type": "code",
   "execution_count": 8,
   "metadata": {},
   "outputs": [
    {
     "name": "stderr",
     "output_type": "stream",
     "text": [
      "00:41:57 - cmdstanpy - INFO - Chain [1] start processing\n",
      "00:41:58 - cmdstanpy - INFO - Chain [1] done processing\n"
     ]
    },
    {
     "data": {
      "text/plain": [
       "<prophet.forecaster.Prophet at 0x754c6c9a39e0>"
      ]
     },
     "execution_count": 8,
     "metadata": {},
     "output_type": "execute_result"
    }
   ],
   "source": [
    "model = Prophet()\n",
    "model.fit(df_sp_full)"
   ]
  },
  {
   "cell_type": "code",
   "execution_count": 9,
   "metadata": {},
   "outputs": [],
   "source": [
    "future = list()\n",
    "\n",
    "for i in range(1, 13):\n",
    "    dfm = 31\n",
    "    if(i==2): dfm = 28\n",
    "    for j in range(1,dfm):\n",
    "    \tdate = '2024-%d-%d' % (i,j)\n",
    "    \tfuture.append([date])\n",
    "\n",
    "for i in range(1, 13):\n",
    "    dfm = 31\n",
    "    if(i==2): dfm = 28\n",
    "    for j in range(1,dfm):\n",
    "    \tdate = '2025-%d-%d' % (i,j)\n",
    "    \tfuture.append([date])\n",
    "        \n",
    "future = pd.DataFrame(future)\n",
    "future.columns = ['ds']\n",
    "future['ds']= to_datetime(future['ds'])"
   ]
  },
  {
   "cell_type": "code",
   "execution_count": 10,
   "metadata": {},
   "outputs": [
    {
     "name": "stdout",
     "output_type": "stream",
     "text": [
      "          ds        yhat  yhat_lower   yhat_upper\n",
      "0 2024-01-01  864.018777 -293.784265  1903.573249\n",
      "1 2024-01-02  740.188250 -409.433621  1911.930949\n",
      "2 2024-01-03  731.481429 -366.298186  1890.752402\n",
      "3 2024-01-04  699.708708 -416.387408  1736.964526\n",
      "4 2024-01-05  633.757879 -489.388705  1740.143795\n"
     ]
    },
    {
     "data": {
      "image/png": "[encoded data removed]",
      "text/plain": [
       "<Figure size 1000x600 with 1 Axes>"
      ]
     },
     "metadata": {},
     "output_type": "display_data"
    }
   ],
   "source": [
    "forecast = model.predict(future)\n",
    "print(forecast[['ds', 'yhat', 'yhat_lower', 'yhat_upper']].head())\n",
    "model.plot(forecast)\n",
    "plt.show()"
   ]
  },
  {
   "cell_type": "markdown",
   "metadata": {},
   "source": [
    "### 4.2 SP - Full - Tunning"
   ]
  },
  {
   "cell_type": "code",
   "execution_count": 11,
   "metadata": {},
   "outputs": [],
   "source": [
    "param_space = dict(growth = ['linear', 'logistic', 'flat'],\n",
    "                   n_changepoints  = range(0, 55, 5),\n",
    "                   changepoint_range  = uniform(0.5, 0.5),\n",
    "                   yearly_seasonality = [True, False],\n",
    "                   weekly_seasonality = [True, False],\n",
    "                   daily_seasonality = [True, False],\n",
    "                   seasonality_mode = ['additive', 'multiplicative'],\n",
    "                   seasonality_prior_scale=uniform(5.0, 15.0),\n",
    "                   changepoint_prior_scale=uniform(0.0, 0.1),\n",
    "                   interval_width = uniform(0.2, 0.8),\n",
    "                   uncertainty_samples = [500, 1000, 1500, 2000]\n",
    "                   )"
   ]
  },
  {
   "cell_type": "code",
   "execution_count": 12,
   "metadata": {},
   "outputs": [],
   "source": [
    "days_test = 100\n",
    "train = df_sp_full.drop(df_sp_full.index[-days_test:])\n",
    "y_true = df_sp_full['y'][-days_test:].values\n",
    "future = df_sp_full['ds'][-days_test:].values\n",
    "future = pd.DataFrame(future)\n",
    "future.columns = ['ds']\n",
    "future['ds'] = to_datetime(future['ds'])"
   ]
  },
  {
   "cell_type": "code",
   "execution_count": 13,
   "metadata": {},
   "outputs": [],
   "source": [
    "def objective_function(args_list):\n",
    "    \n",
    "    params_evaluated = []\n",
    "    results          = []\n",
    "    \n",
    "    for params in args_list:\n",
    "        \n",
    "        try:\n",
    "        \n",
    "            model = Prophet(**params)\n",
    "            model.fit(train)\n",
    "            forecast = model.predict(future)\n",
    "            error = mape(y_true,forecast['yhat'])\n",
    "            params_evaluated.append(params)\n",
    "            results.append(error)\n",
    "            \n",
    "        except:\n",
    "\n",
    "            params_evaluated.append(params)\n",
    "            results.append(25.0)\n",
    "        \n",
    "    return params_evaluated, results"
   ]
  },
  {
   "cell_type": "code",
   "execution_count": null,
   "metadata": {},
   "outputs": [
    {
     "name": "stderr",
     "output_type": "stream",
     "text": [
      "00:41:58 - cmdstanpy - INFO - Chain [1] start processing\n",
      "00:41:58 - cmdstanpy - INFO - Chain [1] done processing\n",
      "00:41:58 - cmdstanpy - INFO - Chain [1] start processing\n",
      "00:41:58 - cmdstanpy - INFO - Chain [1] done processing\n",
      "00:41:59 - cmdstanpy - INFO - Chain [1] start processing\n",
      "00:41:59 - cmdstanpy - INFO - Chain [1] done processing\n",
      "00:41:59 - cmdstanpy - ERROR - Chain [1] error: error during processing Operation not permitted\n",
      "Optimization terminated abnormally. Falling back to Newton.\n",
      "00:41:59 - cmdstanpy - INFO - Chain [1] start processing\n",
      "00:41:59 - cmdstanpy - INFO - Chain [1] done processing\n",
      "00:41:59 - cmdstanpy - INFO - Chain [1] start processing\n",
      "00:42:02 - cmdstanpy - INFO - Chain [1] done processing\n",
      "00:42:02 - cmdstanpy - INFO - Chain [1] start processing\n",
      "00:42:02 - cmdstanpy - INFO - Chain [1] done processing\n",
      "00:42:03 - cmdstanpy - INFO - Chain [1] start processing\n",
      "00:42:03 - cmdstanpy - INFO - Chain [1] done processing\n",
      "00:42:03 - cmdstanpy - INFO - Chain [1] start processing\n",
      "00:42:04 - cmdstanpy - INFO - Chain [1] done processing\n",
      "00:42:04 - cmdstanpy - INFO - Chain [1] start processing\n",
      "00:42:04 - cmdstanpy - INFO - Chain [1] done processing\n"
     ]
    },
    {
     "data": {
      "application/vnd.jupyter.widget-view+json": {
       "model_id": "7b8e53e3c55049fbbbaa06f07881aa82",
       "version_major": 2,
       "version_minor": 0
      },
      "text/plain": [
       "  0%|          | 0/50 [00:00<?, ?it/s]"
      ]
     },
     "metadata": {},
     "output_type": "display_data"
    },
    {
     "name": "stderr",
     "output_type": "stream",
     "text": [
      "00:42:10 - cmdstanpy - INFO - Chain [1] start processing\n",
      "00:42:10 - cmdstanpy - INFO - Chain [1] done processing\n",
      "00:42:12 - cmdstanpy - INFO - Chain [1] start processing\n",
      "00:42:12 - cmdstanpy - INFO - Chain [1] done processing\n",
      "00:42:17 - cmdstanpy - INFO - Chain [1] start processing\n",
      "00:42:17 - cmdstanpy - INFO - Chain [1] done processing\n",
      "00:42:19 - cmdstanpy - INFO - Chain [1] start processing\n",
      "00:42:19 - cmdstanpy - INFO - Chain [1] done processing\n",
      "00:42:21 - cmdstanpy - INFO - Chain [1] start processing\n",
      "00:42:21 - cmdstanpy - INFO - Chain [1] done processing\n",
      "00:42:24 - cmdstanpy - INFO - Chain [1] start processing\n",
      "00:42:25 - cmdstanpy - INFO - Chain [1] done processing\n",
      "00:42:27 - cmdstanpy - INFO - Chain [1] start processing\n",
      "00:42:27 - cmdstanpy - INFO - Chain [1] done processing\n",
      "00:42:27 - cmdstanpy - ERROR - Chain [1] error: error during processing Operation not permitted\n",
      "Optimization terminated abnormally. Falling back to Newton.\n",
      "00:42:28 - cmdstanpy - INFO - Chain [1] start processing\n",
      "00:42:28 - cmdstanpy - INFO - Chain [1] done processing\n",
      "00:42:36 - cmdstanpy - INFO - Chain [1] start processing\n",
      "00:42:36 - cmdstanpy - INFO - Chain [1] done processing\n",
      "00:42:38 - cmdstanpy - INFO - Chain [1] start processing\n",
      "00:42:38 - cmdstanpy - INFO - Chain [1] done processing\n",
      "00:42:40 - cmdstanpy - INFO - Chain [1] start processing\n",
      "00:42:41 - cmdstanpy - INFO - Chain [1] done processing\n",
      "00:42:43 - cmdstanpy - INFO - Chain [1] start processing\n",
      "00:42:43 - cmdstanpy - INFO - Chain [1] done processing\n"
     ]
    }
   ],
   "source": [
    "conf_Dict = dict()\n",
    "conf_Dict['initial_random'] = 10\n",
    "conf_Dict['num_iteration']  = 50\n",
    "\n",
    "tuner = Tuner(param_space, objective_function, conf_Dict)\n",
    "results = tuner.minimize()\n",
    "print('best parameters:', results['best_params'])\n",
    "print('best loss:', results['best_objective'])"
   ]
  },
  {
   "cell_type": "code",
   "execution_count": null,
   "metadata": {},
   "outputs": [],
   "source": []
  },
  {
   "cell_type": "code",
   "execution_count": null,
   "metadata": {},
   "outputs": [],
   "source": []
  }
 ],
 "metadata": {
  "colab": {
   "authorship_tag": "ABX9TyPGDooIhM2rQta2Rk8x0YbZ",
   "provenance": []
  },
  "kernelspec": {
   "display_name": "Python 3 (ipykernel)",
   "language": "python",
   "name": "python3"
  },
  "language_info": {
   "codemirror_mode": {
    "name": "ipython",
    "version": 3
   },
   "file_extension": ".py",
   "mimetype": "text/x-python",
   "name": "python",
   "nbconvert_exporter": "python",
   "pygments_lexer": "ipython3",
   "version": "3.12.7"
  }
 },
 "nbformat": 4,
 "nbformat_minor": 4
}
