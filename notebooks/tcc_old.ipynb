{
 "cells": [
  {
   "cell_type": "markdown",
   "metadata": {},
   "source": [
    "# Trablho de Conclusão de Curso - UNIVESP - 1S/2025- Notebook1"
   ]
  },
  {
   "cell_type": "markdown",
   "metadata": {},
   "source": [
    "# Código: tcc530-sala-002grupo-002"
   ]
  },
  {
   "cell_type": "markdown",
   "metadata": {},
   "source": [
    "## 1.0 Packges"
   ]
  },
  {
   "cell_type": "markdown",
   "metadata": {},
   "source": [
    "### Packges Import"
   ]
  },
  {
   "cell_type": "code",
   "execution_count": 1,
   "metadata": {
    "executionInfo": {
     "elapsed": 2593,
     "status": "ok",
     "timestamp": 1739237469924,
     "user": {
      "displayName": "Felipe Silva",
      "userId": "04798968727763788783"
     },
     "user_tz": 180
    },
    "id": "VK3zJVi_mmB2"
   },
   "outputs": [],
   "source": [
    "# Packages\n",
    "\n",
    "# Bibliotecas Gerais\n",
    "import numpy                   as np\n",
    "import pandas                  as pd\n",
    "import matplotlib.pyplot       as plt\n",
    "import seaborn                 as sns\n",
    "import sys\n",
    "import time\n",
    "from scipy                     import stats\n",
    "\n",
    "#Bibliotecas de Regressão\n",
    "from sklearn.model_selection import train_test_split, cross_val_score, GridSearchCV\n",
    "from sklearn.preprocessing   import StandardScaler\n",
    "from sklearn.svm             import SVR\n",
    "from sklearn.tree            import DecisionTreeRegressor\n",
    "from sklearn.linear_model    import LinearRegression, Ridge, Lasso, LassoCV, ElasticNet, ElasticNetCV, HuberRegressor, LassoLars, BayesianRidge\n",
    "from sklearn.linear_model    import SGDRegressor\n",
    "from sklearn.ensemble        import RandomForestRegressor, AdaBoostRegressor, GradientBoostingRegressor, ExtraTreesRegressor\n",
    "\n",
    "# Bibliotecas de Clusterização\n",
    "import scipy.cluster.hierarchy as shc\n",
    "from sklearn.cluster           import KMeans\n",
    "from sklearn.metrics           import silhouette_score, davies_bouldin_score,v_measure_score\n",
    "from sklearn.mixture           import GaussianMixture\n",
    "from sklearn.neural_network    import MLPRegressor\n",
    "from sklearn.metrics           import r2_score, mean_absolute_error,mean_squared_error\n",
    "from sklearn.model_selection   import GridSearchCV\n",
    "from sklearn.model_selection   import RandomizedSearchCV\n",
    "from sklearn.neighbors         import NearestNeighbors\n",
    "from sklearn.cluster           import DBSCAN\n",
    "from sklearn.cluster           import AgglomerativeClustering\n",
    "\n",
    "# Bibliotecas Classificação\n",
    "from sklearn                       import metrics\n",
    "from sklearn.preprocessing         import MinMaxScaler\n",
    "from sklearn.neighbors             import KNeighborsClassifier\n",
    "from sklearn.linear_model          import LogisticRegression\n",
    "from sklearn.tree                  import DecisionTreeClassifier\n",
    "from sklearn.ensemble              import RandomForestClassifier\n",
    "from sklearn.naive_bayes           import GaussianNB, MultinomialNB, ComplementNB, BernoulliNB\n",
    "from sklearn.svm                   import SVC\n",
    "from sklearn.neural_network        import MLPClassifier\n",
    "from sklearn.metrics               import accuracy_score, precision_score, f1_score, recall_score\n",
    "from sklearn.metrics               import classification_report\n",
    "from sklearn.metrics               import ConfusionMatrixDisplay\n",
    "from sklearn.metrics               import RocCurveDisplay\n",
    "\n",
    "# Bibliotecas de Recomendação\n",
    "from sklearn.metrics.pairwise      import cosine_similarity\n",
    "\n",
    "# Redução de Dimensionalidade\n",
    "from sklearn.decomposition         import PCA\n",
    "from sklearn.decomposition         import TruncatedSVD"
   ]
  },
  {
   "cell_type": "markdown",
   "metadata": {},
   "source": [
    "### Packges Version Control"
   ]
  },
  {
   "cell_type": "code",
   "execution_count": 2,
   "metadata": {
    "executionInfo": {
     "elapsed": 1658,
     "status": "ok",
     "timestamp": 1739237531475,
     "user": {
      "displayName": "Felipe Silva",
      "userId": "04798968727763788783"
     },
     "user_tz": 180
    },
    "id": "GFxtDAUZm_Y4"
   },
   "outputs": [
    {
     "name": "stdout",
     "output_type": "stream",
     "text": [
      "Note: you may need to restart the kernel to use updated packages.\n"
     ]
    }
   ],
   "source": [
    "pip freeze --local > ../requeriments.txt"
   ]
  },
  {
   "cell_type": "markdown",
   "metadata": {},
   "source": [
    "## 2.0 Data Read"
   ]
  },
  {
   "cell_type": "code",
   "execution_count": 3,
   "metadata": {
    "colab": {
     "base_uri": "https://localhost:8080/"
    },
    "executionInfo": {
     "elapsed": 101594,
     "status": "ok",
     "timestamp": 1739238310952,
     "user": {
      "displayName": "Felipe Silva",
      "userId": "04798968727763788783"
     },
     "user_tz": 180
    },
    "id": "oVGqMqLonq_I",
    "outputId": "2e212bae-8525-4297-d836-47ad204bab4b"
   },
   "outputs": [],
   "source": [
    "link   = '../dados/dados_filtrados_2014.csv'\n",
    "df2014 = pd.read_csv(link,sep=\",\",engine='python')\n",
    "\n",
    "link   = '../dados/dados_filtrados_2015.csv'\n",
    "df2015 = pd.read_csv(link,sep=\",\",engine='python')\n",
    "\n",
    "link   = '../dados/dados_filtrados_2016.csv'\n",
    "df2016 = pd.read_csv(link,sep=\",\",engine='python')\n",
    "\n",
    "link   = '../dados/dados_filtrados_2017.csv'\n",
    "df2017 = pd.read_csv(link,sep=\",\",engine='python')\n",
    "\n",
    "link   = '../dados/dados_filtrados_2018.csv'\n",
    "df2018 = pd.read_csv(link,sep=\",\",engine='python')\n",
    "\n",
    "link   = '../dados/dados_filtrados_2019.csv'\n",
    "df2019 = pd.read_csv(link,sep=\",\",engine='python')\n",
    "\n",
    "link   = '../dados/dados_filtrados_2020.csv'\n",
    "df2020 = pd.read_csv(link,sep=\",\",engine='python')\n",
    "\n",
    "link   = '../dados/dados_filtrados_2021.csv'\n",
    "df2021 = pd.read_csv(link,sep=\",\",engine='python')\n",
    "\n",
    "link   = '../dados/dados_filtrados_2022.csv'\n",
    "df2022 = pd.read_csv(link,sep=\",\",engine='python')\n",
    "\n",
    "link   = '../dados/dados_filtrados_2023.csv'\n",
    "df2023 = pd.read_csv(link,sep=\",\",engine='python')"
   ]
  },
  {
   "cell_type": "markdown",
   "metadata": {},
   "source": [
    "## 3.0 Data Join"
   ]
  },
  {
   "cell_type": "code",
   "execution_count": 4,
   "metadata": {
    "executionInfo": {
     "elapsed": 890,
     "status": "ok",
     "timestamp": 1739238791731,
     "user": {
      "displayName": "Felipe Silva",
      "userId": "04798968727763788783"
     },
     "user_tz": 180
    },
    "id": "2CLoW4GDs7AZ"
   },
   "outputs": [],
   "source": [
    "df2021 = df2021.rename(columns={\"ANO_NASC\": \"DT_NASC\"})\n",
    "df2022 = df2022.rename(columns={\"ANO_NASC\": \"DT_NASC\"})\n",
    "df2023 = df2023.rename(columns={\"ANO_NASC\": \"DT_NASC\"})"
   ]
  },
  {
   "cell_type": "code",
   "execution_count": 5,
   "metadata": {
    "executionInfo": {
     "elapsed": 12279,
     "status": "ok",
     "timestamp": 1739239019052,
     "user": {
      "displayName": "Felipe Silva",
      "userId": "04798968727763788783"
     },
     "user_tz": 180
    },
    "id": "x2CAVpekteRF"
   },
   "outputs": [],
   "source": [
    "df_full = pd.concat([df2014, df2015,df2016,df2017,df2018,df2019,df2020,df2021,df2022,df2023], axis=0, ignore_index=True)"
   ]
  },
  {
   "cell_type": "code",
   "execution_count": 6,
   "metadata": {
    "executionInfo": {
     "elapsed": 17,
     "status": "ok",
     "timestamp": 1739239019060,
     "user": {
      "displayName": "Felipe Silva",
      "userId": "04798968727763788783"
     },
     "user_tz": 180
    },
    "id": "Lzlbva4SnvtG"
   },
   "outputs": [],
   "source": [
    "def verificacao_nulos(df_true,target_clean,col_ok):\n",
    "\n",
    "  df = df_true.copy()\n",
    "\n",
    "  target_clean_por = 100*target_clean\n",
    "\n",
    "  names_df  = df.columns\n",
    "  nnames_df = len(names_df)\n",
    "  porcent_df_null = df.isnull().sum()/df.shape[0]\n",
    "\n",
    "  for i in range(0,nnames_df):\n",
    "    \n",
    "      if(porcent_df_null[i]>target_clean):\n",
    "\n",
    "          print('A feature %s possui mais do que %.2f porcento de dados nulos'%(names_df[i],target_clean_por))\n",
    "\n",
    "      else:\n",
    "\n",
    "          col_ok.append(names_df[i])\n",
    "          "
   ]
  },
  {
   "cell_type": "code",
   "execution_count": 7,
   "metadata": {
    "id": "rMi7JCrIudxp"
   },
   "outputs": [
    {
     "name": "stdout",
     "output_type": "stream",
     "text": [
      "A feature ID_OCUPA_N possui mais do que 50.00 porcento de dados nulos\n",
      "A feature DT_CHIK_S1 possui mais do que 50.00 porcento de dados nulos\n",
      "A feature DT_CHIK_S2 possui mais do que 50.00 porcento de dados nulos\n",
      "A feature DT_PRNT possui mais do que 50.00 porcento de dados nulos\n",
      "A feature RES_CHIKS1 possui mais do que 50.00 porcento de dados nulos\n",
      "A feature RES_CHIKS2 possui mais do que 50.00 porcento de dados nulos\n",
      "A feature RESUL_PRNT possui mais do que 50.00 porcento de dados nulos\n",
      "A feature DT_SORO possui mais do que 50.00 porcento de dados nulos\n",
      "A feature DT_NS1 possui mais do que 50.00 porcento de dados nulos\n",
      "A feature DT_VIRAL possui mais do que 50.00 porcento de dados nulos\n",
      "A feature DT_PCR possui mais do que 50.00 porcento de dados nulos\n",
      "A feature SOROTIPO possui mais do que 50.00 porcento de dados nulos\n",
      "A feature DT_INTERNA possui mais do que 50.00 porcento de dados nulos\n",
      "A feature UF possui mais do que 50.00 porcento de dados nulos\n",
      "A feature MUNICIPIO possui mais do que 50.00 porcento de dados nulos\n",
      "A feature TPAUTOCTO possui mais do que 50.00 porcento de dados nulos\n",
      "A feature COUFINF possui mais do que 50.00 porcento de dados nulos\n",
      "A feature COPAISINF possui mais do que 50.00 porcento de dados nulos\n",
      "A feature COMUNINF possui mais do que 50.00 porcento de dados nulos\n",
      "A feature DOENCA_TRA possui mais do que 50.00 porcento de dados nulos\n",
      "A feature CLINC_CHIK possui mais do que 50.00 porcento de dados nulos\n",
      "A feature DT_OBITO possui mais do que 50.00 porcento de dados nulos\n",
      "A feature ALRM_HIPOT possui mais do que 50.00 porcento de dados nulos\n",
      "A feature ALRM_PLAQ possui mais do que 50.00 porcento de dados nulos\n",
      "A feature ALRM_VOM possui mais do que 50.00 porcento de dados nulos\n",
      "A feature ALRM_SANG possui mais do que 50.00 porcento de dados nulos\n",
      "A feature ALRM_HEMAT possui mais do que 50.00 porcento de dados nulos\n",
      "A feature ALRM_ABDOM possui mais do que 50.00 porcento de dados nulos\n",
      "A feature ALRM_LETAR possui mais do que 50.00 porcento de dados nulos\n",
      "A feature ALRM_HEPAT possui mais do que 50.00 porcento de dados nulos\n",
      "A feature ALRM_LIQ possui mais do que 50.00 porcento de dados nulos\n",
      "A feature DT_ALRM possui mais do que 50.00 porcento de dados nulos\n",
      "A feature GRAV_PULSO possui mais do que 50.00 porcento de dados nulos\n",
      "A feature GRAV_CONV possui mais do que 50.00 porcento de dados nulos\n",
      "A feature GRAV_ENCH possui mais do que 50.00 porcento de dados nulos\n",
      "A feature GRAV_INSUF possui mais do que 50.00 porcento de dados nulos\n",
      "A feature GRAV_TAQUI possui mais do que 50.00 porcento de dados nulos\n",
      "A feature GRAV_EXTRE possui mais do que 50.00 porcento de dados nulos\n",
      "A feature GRAV_HIPOT possui mais do que 50.00 porcento de dados nulos\n",
      "A feature GRAV_HEMAT possui mais do que 50.00 porcento de dados nulos\n",
      "A feature GRAV_MELEN possui mais do que 50.00 porcento de dados nulos\n",
      "A feature GRAV_METRO possui mais do que 50.00 porcento de dados nulos\n",
      "A feature GRAV_SANG possui mais do que 50.00 porcento de dados nulos\n",
      "A feature GRAV_AST possui mais do que 50.00 porcento de dados nulos\n",
      "A feature GRAV_MIOC possui mais do que 50.00 porcento de dados nulos\n",
      "A feature GRAV_CONSC possui mais do que 50.00 porcento de dados nulos\n",
      "A feature GRAV_ORGAO possui mais do que 50.00 porcento de dados nulos\n",
      "A feature DT_GRAV possui mais do que 50.00 porcento de dados nulos\n",
      "A feature MANI_HEMOR possui mais do que 50.00 porcento de dados nulos\n",
      "A feature EPISTAXE possui mais do que 50.00 porcento de dados nulos\n",
      "A feature GENGIVO possui mais do que 50.00 porcento de dados nulos\n",
      "A feature METRO possui mais do que 50.00 porcento de dados nulos\n",
      "A feature PETEQUIAS possui mais do que 50.00 porcento de dados nulos\n",
      "A feature HEMATURA possui mais do que 50.00 porcento de dados nulos\n",
      "A feature SANGRAM possui mais do que 50.00 porcento de dados nulos\n",
      "A feature LACO_N possui mais do que 50.00 porcento de dados nulos\n",
      "A feature PLASMATICO possui mais do que 50.00 porcento de dados nulos\n",
      "A feature EVIDENCIA possui mais do que 50.00 porcento de dados nulos\n",
      "A feature PLAQ_MENOR possui mais do que 50.00 porcento de dados nulos\n",
      "A feature CON_FHD possui mais do que 50.00 porcento de dados nulos\n",
      "A feature COMPLICA possui mais do que 50.00 porcento de dados nulos\n",
      "A feature NDUPLIC_N possui mais do que 50.00 porcento de dados nulos\n",
      "A feature FLXRECEBI possui mais do que 50.00 porcento de dados nulos\n"
     ]
    },
    {
     "name": "stderr",
     "output_type": "stream",
     "text": [
      "/tmp/ipykernel_88554/923589582.py:13: FutureWarning: Series.__getitem__ treating keys as positions is deprecated. In a future version, integer keys will always be treated as labels (consistent with DataFrame behavior). To access a value by position, use `ser.iloc[pos]`\n",
      "  if(porcent_df_null[i]>target_clean):\n"
     ]
    }
   ],
   "source": [
    "target_clean = 0.5\n",
    "col_ok       = []\n",
    "verificacao_nulos(df_full,target_clean,col_ok)"
   ]
  },
  {
   "cell_type": "code",
   "execution_count": 8,
   "metadata": {
    "id": "r18JbGv-uhvt"
   },
   "outputs": [
    {
     "data": {
      "text/html": [
       "<div>\n",
       "<style scoped>\n",
       "    .dataframe tbody tr th:only-of-type {\n",
       "        vertical-align: middle;\n",
       "    }\n",
       "\n",
       "    .dataframe tbody tr th {\n",
       "        vertical-align: top;\n",
       "    }\n",
       "\n",
       "    .dataframe thead th {\n",
       "        text-align: right;\n",
       "    }\n",
       "</style>\n",
       "<table border=\"1\" class=\"dataframe\">\n",
       "  <thead>\n",
       "    <tr style=\"text-align: right;\">\n",
       "      <th></th>\n",
       "      <th>TP_NOT</th>\n",
       "      <th>ID_AGRAVO</th>\n",
       "      <th>DT_NOTIFIC</th>\n",
       "      <th>SEM_NOT</th>\n",
       "      <th>NU_ANO</th>\n",
       "      <th>SG_UF_NOT</th>\n",
       "      <th>ID_MUNICIP</th>\n",
       "      <th>ID_REGIONA</th>\n",
       "      <th>ID_UNIDADE</th>\n",
       "      <th>DT_SIN_PRI</th>\n",
       "      <th>...</th>\n",
       "      <th>RESUL_PCR_</th>\n",
       "      <th>HISTOPA_N</th>\n",
       "      <th>IMUNOH_N</th>\n",
       "      <th>HOSPITALIZ</th>\n",
       "      <th>CLASSI_FIN</th>\n",
       "      <th>CRITERIO</th>\n",
       "      <th>EVOLUCAO</th>\n",
       "      <th>DT_ENCERRA</th>\n",
       "      <th>TP_SISTEMA</th>\n",
       "      <th>CS_FLXRET</th>\n",
       "    </tr>\n",
       "  </thead>\n",
       "  <tbody>\n",
       "    <tr>\n",
       "      <th>0</th>\n",
       "      <td>2</td>\n",
       "      <td>A90</td>\n",
       "      <td>2017-01-24</td>\n",
       "      <td>201704.0</td>\n",
       "      <td>2017</td>\n",
       "      <td>35</td>\n",
       "      <td>354990</td>\n",
       "      <td>1351.0</td>\n",
       "      <td>3507157.0</td>\n",
       "      <td>2017-01-21</td>\n",
       "      <td>...</td>\n",
       "      <td>4.0</td>\n",
       "      <td>4.0</td>\n",
       "      <td>4.0</td>\n",
       "      <td>2.0</td>\n",
       "      <td>10.0</td>\n",
       "      <td>1.0</td>\n",
       "      <td>1.0</td>\n",
       "      <td>2017-01-24</td>\n",
       "      <td>2.0</td>\n",
       "      <td>1.0</td>\n",
       "    </tr>\n",
       "    <tr>\n",
       "      <th>1</th>\n",
       "      <td>2</td>\n",
       "      <td>A90</td>\n",
       "      <td>2017-07-12</td>\n",
       "      <td>201728.0</td>\n",
       "      <td>2017</td>\n",
       "      <td>35</td>\n",
       "      <td>355030</td>\n",
       "      <td>1331.0</td>\n",
       "      <td>2080818.0</td>\n",
       "      <td>2017-06-11</td>\n",
       "      <td>...</td>\n",
       "      <td>4.0</td>\n",
       "      <td>4.0</td>\n",
       "      <td>4.0</td>\n",
       "      <td>2.0</td>\n",
       "      <td>10.0</td>\n",
       "      <td>2.0</td>\n",
       "      <td>1.0</td>\n",
       "      <td>2017-09-11</td>\n",
       "      <td>2.0</td>\n",
       "      <td>1.0</td>\n",
       "    </tr>\n",
       "    <tr>\n",
       "      <th>2</th>\n",
       "      <td>2</td>\n",
       "      <td>A90</td>\n",
       "      <td>2017-01-29</td>\n",
       "      <td>201705.0</td>\n",
       "      <td>2017</td>\n",
       "      <td>35</td>\n",
       "      <td>352390</td>\n",
       "      <td>1353.0</td>\n",
       "      <td>2085437.0</td>\n",
       "      <td>2017-01-28</td>\n",
       "      <td>...</td>\n",
       "      <td>4.0</td>\n",
       "      <td>4.0</td>\n",
       "      <td>4.0</td>\n",
       "      <td>2.0</td>\n",
       "      <td>5.0</td>\n",
       "      <td>2.0</td>\n",
       "      <td>1.0</td>\n",
       "      <td>2017-04-10</td>\n",
       "      <td>2.0</td>\n",
       "      <td>1.0</td>\n",
       "    </tr>\n",
       "    <tr>\n",
       "      <th>3</th>\n",
       "      <td>2</td>\n",
       "      <td>A90</td>\n",
       "      <td>2017-03-27</td>\n",
       "      <td>201713.0</td>\n",
       "      <td>2017</td>\n",
       "      <td>35</td>\n",
       "      <td>351870</td>\n",
       "      <td>1349.0</td>\n",
       "      <td>6885284.0</td>\n",
       "      <td>2017-03-15</td>\n",
       "      <td>...</td>\n",
       "      <td>4.0</td>\n",
       "      <td>4.0</td>\n",
       "      <td>4.0</td>\n",
       "      <td>2.0</td>\n",
       "      <td>5.0</td>\n",
       "      <td>1.0</td>\n",
       "      <td>1.0</td>\n",
       "      <td>2017-05-22</td>\n",
       "      <td>2.0</td>\n",
       "      <td>1.0</td>\n",
       "    </tr>\n",
       "    <tr>\n",
       "      <th>4</th>\n",
       "      <td>2</td>\n",
       "      <td>A90</td>\n",
       "      <td>2017-01-23</td>\n",
       "      <td>201704.0</td>\n",
       "      <td>2017</td>\n",
       "      <td>35</td>\n",
       "      <td>350280</td>\n",
       "      <td>1336.0</td>\n",
       "      <td>2043890.0</td>\n",
       "      <td>2017-01-23</td>\n",
       "      <td>...</td>\n",
       "      <td>4.0</td>\n",
       "      <td>4.0</td>\n",
       "      <td>4.0</td>\n",
       "      <td>2.0</td>\n",
       "      <td>5.0</td>\n",
       "      <td>1.0</td>\n",
       "      <td>1.0</td>\n",
       "      <td>2017-01-31</td>\n",
       "      <td>2.0</td>\n",
       "      <td>1.0</td>\n",
       "    </tr>\n",
       "  </tbody>\n",
       "</table>\n",
       "<p>5 rows × 56 columns</p>\n",
       "</div>"
      ],
      "text/plain": [
       "   TP_NOT ID_AGRAVO  DT_NOTIFIC   SEM_NOT  NU_ANO  SG_UF_NOT ID_MUNICIP  \\\n",
       "0       2       A90  2017-01-24  201704.0    2017         35     354990   \n",
       "1       2       A90  2017-07-12  201728.0    2017         35     355030   \n",
       "2       2       A90  2017-01-29  201705.0    2017         35     352390   \n",
       "3       2       A90  2017-03-27  201713.0    2017         35     351870   \n",
       "4       2       A90  2017-01-23  201704.0    2017         35     350280   \n",
       "\n",
       "   ID_REGIONA  ID_UNIDADE  DT_SIN_PRI  ... RESUL_PCR_ HISTOPA_N  IMUNOH_N  \\\n",
       "0      1351.0   3507157.0  2017-01-21  ...        4.0       4.0       4.0   \n",
       "1      1331.0   2080818.0  2017-06-11  ...        4.0       4.0       4.0   \n",
       "2      1353.0   2085437.0  2017-01-28  ...        4.0       4.0       4.0   \n",
       "3      1349.0   6885284.0  2017-03-15  ...        4.0       4.0       4.0   \n",
       "4      1336.0   2043890.0  2017-01-23  ...        4.0       4.0       4.0   \n",
       "\n",
       "  HOSPITALIZ  CLASSI_FIN  CRITERIO  EVOLUCAO  DT_ENCERRA TP_SISTEMA  CS_FLXRET  \n",
       "0        2.0        10.0       1.0       1.0  2017-01-24        2.0        1.0  \n",
       "1        2.0        10.0       2.0       1.0  2017-09-11        2.0        1.0  \n",
       "2        2.0         5.0       2.0       1.0  2017-04-10        2.0        1.0  \n",
       "3        2.0         5.0       1.0       1.0  2017-05-22        2.0        1.0  \n",
       "4        2.0         5.0       1.0       1.0  2017-01-31        2.0        1.0  \n",
       "\n",
       "[5 rows x 56 columns]"
      ]
     },
     "execution_count": 8,
     "metadata": {},
     "output_type": "execute_result"
    }
   ],
   "source": [
    "df_clean = df_full[col_ok].dropna(axis=0).reset_index(drop=True)\n",
    "df_clean.head(5)"
   ]
  },
  {
   "cell_type": "code",
   "execution_count": 9,
   "metadata": {},
   "outputs": [
    {
     "name": "stdout",
     "output_type": "stream",
     "text": [
      "Full Size: 4199371\n",
      "Clean Size: 552333\n",
      "Reduction in Size: 86.847245\n"
     ]
    }
   ],
   "source": [
    "reduct = 100*(1-(df_clean.shape[0]/df_full.shape[0]))\n",
    "print('Full Size: %d'%df_full.shape[0])\n",
    "print('Clean Size: %d'%df_clean.shape[0])\n",
    "print('Reduction in Size: %f'%reduct)"
   ]
  },
  {
   "cell_type": "code",
   "execution_count": 10,
   "metadata": {},
   "outputs": [
    {
     "data": {
      "text/plain": [
       "Index(['TP_NOT', 'ID_AGRAVO', 'DT_NOTIFIC', 'SEM_NOT', 'NU_ANO', 'SG_UF_NOT',\n",
       "       'ID_MUNICIP', 'ID_REGIONA', 'ID_UNIDADE', 'DT_SIN_PRI', 'SEM_PRI',\n",
       "       'DT_NASC', 'NU_IDADE_N', 'CS_SEXO', 'CS_GESTANT', 'CS_RACA',\n",
       "       'CS_ESCOL_N', 'SG_UF', 'ID_MN_RESI', 'ID_RG_RESI', 'ID_PAIS',\n",
       "       'DT_INVEST', 'FEBRE', 'MIALGIA', 'CEFALEIA', 'EXANTEMA', 'VOMITO',\n",
       "       'NAUSEA', 'DOR_COSTAS', 'CONJUNTVIT', 'ARTRITE', 'ARTRALGIA',\n",
       "       'PETEQUIA_N', 'LEUCOPENIA', 'LACO', 'DOR_RETRO', 'DIABETES',\n",
       "       'HEMATOLOG', 'HEPATOPAT', 'RENAL', 'HIPERTENSA', 'ACIDO_PEPT',\n",
       "       'AUTO_IMUNE', 'RESUL_SORO', 'RESUL_NS1', 'RESUL_VI_N', 'RESUL_PCR_',\n",
       "       'HISTOPA_N', 'IMUNOH_N', 'HOSPITALIZ', 'CLASSI_FIN', 'CRITERIO',\n",
       "       'EVOLUCAO', 'DT_ENCERRA', 'TP_SISTEMA', 'CS_FLXRET'],\n",
       "      dtype='object')"
      ]
     },
     "execution_count": 10,
     "metadata": {},
     "output_type": "execute_result"
    }
   ],
   "source": [
    "df_clean.columns"
   ]
  },
  {
   "cell_type": "code",
   "execution_count": 11,
   "metadata": {},
   "outputs": [
    {
     "name": "stderr",
     "output_type": "stream",
     "text": [
      "/tmp/ipykernel_88554/814116313.py:1: FutureWarning: Downcasting object dtype arrays on .fillna, .ffill, .bfill is deprecated and will change in a future version. Call result.infer_objects(copy=False) instead. To opt-in to the future behavior, set `pd.set_option('future.no_silent_downcasting', True)`\n",
      "  df_clean = df_clean.ffill()\n"
     ]
    }
   ],
   "source": [
    "df_clean = df_clean.ffill()"
   ]
  },
  {
   "cell_type": "code",
   "execution_count": 12,
   "metadata": {},
   "outputs": [
    {
     "name": "stderr",
     "output_type": "stream",
     "text": [
      "/tmp/ipykernel_88554/923589582.py:13: FutureWarning: Series.__getitem__ treating keys as positions is deprecated. In a future version, integer keys will always be treated as labels (consistent with DataFrame behavior). To access a value by position, use `ser.iloc[pos]`\n",
      "  if(porcent_df_null[i]>target_clean):\n"
     ]
    }
   ],
   "source": [
    "target_clean = 0.5\n",
    "col_ok       = []\n",
    "verificacao_nulos(df_clean,target_clean,col_ok)"
   ]
  },
  {
   "cell_type": "code",
   "execution_count": 23,
   "metadata": {},
   "outputs": [
    {
     "data": {
      "text/html": [
       "<div>\n",
       "<style scoped>\n",
       "    .dataframe tbody tr th:only-of-type {\n",
       "        vertical-align: middle;\n",
       "    }\n",
       "\n",
       "    .dataframe tbody tr th {\n",
       "        vertical-align: top;\n",
       "    }\n",
       "\n",
       "    .dataframe thead th {\n",
       "        text-align: right;\n",
       "    }\n",
       "</style>\n",
       "<table border=\"1\" class=\"dataframe\">\n",
       "  <thead>\n",
       "    <tr style=\"text-align: right;\">\n",
       "      <th></th>\n",
       "      <th>REGIAO</th>\n",
       "      <th>MUNICIPIO</th>\n",
       "      <th>ID_MUNICIPIO</th>\n",
       "    </tr>\n",
       "  </thead>\n",
       "  <tbody>\n",
       "    <tr>\n",
       "      <th>0</th>\n",
       "      <td>Presidente Prudente</td>\n",
       "      <td>Adamantina</td>\n",
       "      <td>350010</td>\n",
       "    </tr>\n",
       "    <tr>\n",
       "      <th>1</th>\n",
       "      <td>São José do Rio Preto</td>\n",
       "      <td>Adolfo</td>\n",
       "      <td>350020</td>\n",
       "    </tr>\n",
       "    <tr>\n",
       "      <th>2</th>\n",
       "      <td>Campinas</td>\n",
       "      <td>Aguaí</td>\n",
       "      <td>350030</td>\n",
       "    </tr>\n",
       "    <tr>\n",
       "      <th>3</th>\n",
       "      <td>Campinas</td>\n",
       "      <td>Águas da Prata</td>\n",
       "      <td>350040</td>\n",
       "    </tr>\n",
       "    <tr>\n",
       "      <th>4</th>\n",
       "      <td>Campinas</td>\n",
       "      <td>Águas de Lindóia</td>\n",
       "      <td>350050</td>\n",
       "    </tr>\n",
       "  </tbody>\n",
       "</table>\n",
       "</div>"
      ],
      "text/plain": [
       "                  REGIAO         MUNICIPIO  ID_MUNICIPIO\n",
       "0    Presidente Prudente        Adamantina        350010\n",
       "1  São José do Rio Preto            Adolfo        350020\n",
       "2               Campinas             Aguaí        350030\n",
       "3               Campinas    Águas da Prata        350040\n",
       "4               Campinas  Águas de Lindóia        350050"
      ]
     },
     "execution_count": 23,
     "metadata": {},
     "output_type": "execute_result"
    }
   ],
   "source": [
    "link   = '../dados/municipios_sp_edited.csv'\n",
    "df_muni_sp = pd.read_csv(link,sep=\",\")\n",
    "df_muni_sp = df_muni_sp.drop(['ID_ESTADO','ESTADO'],axis=1)\n",
    "df_muni_sp.head()"
   ]
  },
  {
   "cell_type": "code",
   "execution_count": 24,
   "metadata": {},
   "outputs": [],
   "source": [
    "df_muni_sp = df_muni_sp.rename(columns={\"ID_MUNICIPIO\": \"ID_MUNICIP\"})"
   ]
  },
  {
   "cell_type": "code",
   "execution_count": 25,
   "metadata": {},
   "outputs": [
    {
     "data": {
      "text/html": [
       "<div>\n",
       "<style scoped>\n",
       "    .dataframe tbody tr th:only-of-type {\n",
       "        vertical-align: middle;\n",
       "    }\n",
       "\n",
       "    .dataframe tbody tr th {\n",
       "        vertical-align: top;\n",
       "    }\n",
       "\n",
       "    .dataframe thead th {\n",
       "        text-align: right;\n",
       "    }\n",
       "</style>\n",
       "<table border=\"1\" class=\"dataframe\">\n",
       "  <thead>\n",
       "    <tr style=\"text-align: right;\">\n",
       "      <th></th>\n",
       "      <th>TP_NOT</th>\n",
       "      <th>ID_AGRAVO</th>\n",
       "      <th>DT_NOTIFIC</th>\n",
       "      <th>SEM_NOT</th>\n",
       "      <th>NU_ANO</th>\n",
       "      <th>SG_UF_NOT</th>\n",
       "      <th>ID_MUNICIP</th>\n",
       "      <th>ID_REGIONA</th>\n",
       "      <th>ID_UNIDADE</th>\n",
       "      <th>DT_SIN_PRI</th>\n",
       "      <th>...</th>\n",
       "      <th>CRITERIO</th>\n",
       "      <th>EVOLUCAO</th>\n",
       "      <th>DT_ENCERRA</th>\n",
       "      <th>TP_SISTEMA</th>\n",
       "      <th>CS_FLXRET</th>\n",
       "      <th>REGIAO_x</th>\n",
       "      <th>MUNICIPIO_x</th>\n",
       "      <th>DT_NASC_YEAR</th>\n",
       "      <th>REGIAO_y</th>\n",
       "      <th>MUNICIPIO_y</th>\n",
       "    </tr>\n",
       "  </thead>\n",
       "  <tbody>\n",
       "    <tr>\n",
       "      <th>0</th>\n",
       "      <td>2</td>\n",
       "      <td>A90</td>\n",
       "      <td>2017-01-24</td>\n",
       "      <td>201704.0</td>\n",
       "      <td>2017</td>\n",
       "      <td>35</td>\n",
       "      <td>354990</td>\n",
       "      <td>1351.0</td>\n",
       "      <td>3507157.0</td>\n",
       "      <td>2017-01-21</td>\n",
       "      <td>...</td>\n",
       "      <td>1.0</td>\n",
       "      <td>1.0</td>\n",
       "      <td>2017-01-24</td>\n",
       "      <td>2.0</td>\n",
       "      <td>1.0</td>\n",
       "      <td>São José dos Campos</td>\n",
       "      <td>São José dos Campos</td>\n",
       "      <td>1970-01-01 00:00:00.000001974</td>\n",
       "      <td>São José dos Campos</td>\n",
       "      <td>São José dos Campos</td>\n",
       "    </tr>\n",
       "    <tr>\n",
       "      <th>1</th>\n",
       "      <td>2</td>\n",
       "      <td>A90</td>\n",
       "      <td>2017-07-12</td>\n",
       "      <td>201728.0</td>\n",
       "      <td>2017</td>\n",
       "      <td>35</td>\n",
       "      <td>355030</td>\n",
       "      <td>1331.0</td>\n",
       "      <td>2080818.0</td>\n",
       "      <td>2017-06-11</td>\n",
       "      <td>...</td>\n",
       "      <td>2.0</td>\n",
       "      <td>1.0</td>\n",
       "      <td>2017-09-11</td>\n",
       "      <td>2.0</td>\n",
       "      <td>1.0</td>\n",
       "      <td>São Paulo</td>\n",
       "      <td>São Paulo</td>\n",
       "      <td>1970-01-01 00:00:00.000002009</td>\n",
       "      <td>São Paulo</td>\n",
       "      <td>São Paulo</td>\n",
       "    </tr>\n",
       "    <tr>\n",
       "      <th>2</th>\n",
       "      <td>2</td>\n",
       "      <td>A90</td>\n",
       "      <td>2017-01-29</td>\n",
       "      <td>201705.0</td>\n",
       "      <td>2017</td>\n",
       "      <td>35</td>\n",
       "      <td>352390</td>\n",
       "      <td>1353.0</td>\n",
       "      <td>2085437.0</td>\n",
       "      <td>2017-01-28</td>\n",
       "      <td>...</td>\n",
       "      <td>2.0</td>\n",
       "      <td>1.0</td>\n",
       "      <td>2017-04-10</td>\n",
       "      <td>2.0</td>\n",
       "      <td>1.0</td>\n",
       "      <td>Sorocaba</td>\n",
       "      <td>Itu</td>\n",
       "      <td>1970-01-01 00:00:00.000002014</td>\n",
       "      <td>Sorocaba</td>\n",
       "      <td>Itu</td>\n",
       "    </tr>\n",
       "    <tr>\n",
       "      <th>3</th>\n",
       "      <td>2</td>\n",
       "      <td>A90</td>\n",
       "      <td>2017-03-27</td>\n",
       "      <td>201713.0</td>\n",
       "      <td>2017</td>\n",
       "      <td>35</td>\n",
       "      <td>351870</td>\n",
       "      <td>1349.0</td>\n",
       "      <td>6885284.0</td>\n",
       "      <td>2017-03-15</td>\n",
       "      <td>...</td>\n",
       "      <td>1.0</td>\n",
       "      <td>1.0</td>\n",
       "      <td>2017-05-22</td>\n",
       "      <td>2.0</td>\n",
       "      <td>1.0</td>\n",
       "      <td>São Paulo</td>\n",
       "      <td>Guarujá</td>\n",
       "      <td>1970-01-01 00:00:00.000001965</td>\n",
       "      <td>São Paulo</td>\n",
       "      <td>Guarujá</td>\n",
       "    </tr>\n",
       "    <tr>\n",
       "      <th>4</th>\n",
       "      <td>2</td>\n",
       "      <td>A90</td>\n",
       "      <td>2017-01-23</td>\n",
       "      <td>201704.0</td>\n",
       "      <td>2017</td>\n",
       "      <td>35</td>\n",
       "      <td>350280</td>\n",
       "      <td>1336.0</td>\n",
       "      <td>2043890.0</td>\n",
       "      <td>2017-01-23</td>\n",
       "      <td>...</td>\n",
       "      <td>1.0</td>\n",
       "      <td>1.0</td>\n",
       "      <td>2017-01-31</td>\n",
       "      <td>2.0</td>\n",
       "      <td>1.0</td>\n",
       "      <td>Araçatuba</td>\n",
       "      <td>Araçatuba</td>\n",
       "      <td>1970-01-01 00:00:00.000001975</td>\n",
       "      <td>Araçatuba</td>\n",
       "      <td>Araçatuba</td>\n",
       "    </tr>\n",
       "  </tbody>\n",
       "</table>\n",
       "<p>5 rows × 60 columns</p>\n",
       "</div>"
      ],
      "text/plain": [
       "   TP_NOT ID_AGRAVO DT_NOTIFIC   SEM_NOT  NU_ANO  SG_UF_NOT  ID_MUNICIP  \\\n",
       "0       2       A90 2017-01-24  201704.0    2017         35      354990   \n",
       "1       2       A90 2017-07-12  201728.0    2017         35      355030   \n",
       "2       2       A90 2017-01-29  201705.0    2017         35      352390   \n",
       "3       2       A90 2017-03-27  201713.0    2017         35      351870   \n",
       "4       2       A90 2017-01-23  201704.0    2017         35      350280   \n",
       "\n",
       "  ID_REGIONA ID_UNIDADE DT_SIN_PRI  ...  CRITERIO  EVOLUCAO DT_ENCERRA  \\\n",
       "0     1351.0  3507157.0 2017-01-21  ...       1.0       1.0 2017-01-24   \n",
       "1     1331.0  2080818.0 2017-06-11  ...       2.0       1.0 2017-09-11   \n",
       "2     1353.0  2085437.0 2017-01-28  ...       2.0       1.0 2017-04-10   \n",
       "3     1349.0  6885284.0 2017-03-15  ...       1.0       1.0 2017-05-22   \n",
       "4     1336.0  2043890.0 2017-01-23  ...       1.0       1.0 2017-01-31   \n",
       "\n",
       "   TP_SISTEMA  CS_FLXRET             REGIAO_x          MUNICIPIO_x  \\\n",
       "0         2.0        1.0  São José dos Campos  São José dos Campos   \n",
       "1         2.0        1.0            São Paulo            São Paulo   \n",
       "2         2.0        1.0             Sorocaba                  Itu   \n",
       "3         2.0        1.0            São Paulo              Guarujá   \n",
       "4         2.0        1.0            Araçatuba            Araçatuba   \n",
       "\n",
       "                   DT_NASC_YEAR             REGIAO_y          MUNICIPIO_y  \n",
       "0 1970-01-01 00:00:00.000001974  São José dos Campos  São José dos Campos  \n",
       "1 1970-01-01 00:00:00.000002009            São Paulo            São Paulo  \n",
       "2 1970-01-01 00:00:00.000002014             Sorocaba                  Itu  \n",
       "3 1970-01-01 00:00:00.000001965            São Paulo              Guarujá  \n",
       "4 1970-01-01 00:00:00.000001975            Araçatuba            Araçatuba  \n",
       "\n",
       "[5 rows x 60 columns]"
      ]
     },
     "execution_count": 25,
     "metadata": {},
     "output_type": "execute_result"
    }
   ],
   "source": [
    "df_clean = df_clean.merge(df_muni_sp,on=['ID_MUNICIP'])\n",
    "df_clean.head(5)"
   ]
  },
  {
   "cell_type": "code",
   "execution_count": 16,
   "metadata": {},
   "outputs": [
    {
     "data": {
      "text/plain": [
       "TP_NOT          int64\n",
       "ID_AGRAVO      object\n",
       "DT_NOTIFIC     object\n",
       "SEM_NOT       float64\n",
       "NU_ANO          int64\n",
       "SG_UF_NOT       int64\n",
       "ID_MUNICIP      int64\n",
       "ID_REGIONA    float64\n",
       "ID_UNIDADE    float64\n",
       "DT_SIN_PRI     object\n",
       "SEM_PRI         int64\n",
       "DT_NASC        object\n",
       "NU_IDADE_N    float64\n",
       "CS_SEXO        object\n",
       "CS_GESTANT    float64\n",
       "CS_RACA       float64\n",
       "CS_ESCOL_N    float64\n",
       "SG_UF         float64\n",
       "ID_MN_RESI    float64\n",
       "ID_RG_RESI    float64\n",
       "ID_PAIS       float64\n",
       "DT_INVEST      object\n",
       "FEBRE         float64\n",
       "MIALGIA       float64\n",
       "CEFALEIA      float64\n",
       "EXANTEMA      float64\n",
       "VOMITO        float64\n",
       "NAUSEA        float64\n",
       "DOR_COSTAS    float64\n",
       "CONJUNTVIT    float64\n",
       "ARTRITE       float64\n",
       "ARTRALGIA     float64\n",
       "PETEQUIA_N    float64\n",
       "LEUCOPENIA    float64\n",
       "LACO          float64\n",
       "DOR_RETRO     float64\n",
       "DIABETES      float64\n",
       "HEMATOLOG     float64\n",
       "HEPATOPAT     float64\n",
       "RENAL         float64\n",
       "HIPERTENSA    float64\n",
       "ACIDO_PEPT    float64\n",
       "AUTO_IMUNE    float64\n",
       "RESUL_SORO    float64\n",
       "RESUL_NS1     float64\n",
       "RESUL_VI_N    float64\n",
       "RESUL_PCR_    float64\n",
       "HISTOPA_N     float64\n",
       "IMUNOH_N      float64\n",
       "HOSPITALIZ    float64\n",
       "CLASSI_FIN    float64\n",
       "CRITERIO      float64\n",
       "EVOLUCAO      float64\n",
       "DT_ENCERRA     object\n",
       "TP_SISTEMA    float64\n",
       "CS_FLXRET     float64\n",
       "REGIAO         object\n",
       "MUNICIPIO      object\n",
       "dtype: object"
      ]
     },
     "execution_count": 16,
     "metadata": {},
     "output_type": "execute_result"
    }
   ],
   "source": [
    "df_clean.dtypes"
   ]
  },
  {
   "cell_type": "code",
   "execution_count": 17,
   "metadata": {},
   "outputs": [],
   "source": [
    "df_clean['DT_NASC_YEAR'] = pd.DatetimeIndex(df_clean['DT_NASC']).year\n",
    "df_clean = df_clean.drop(['DT_NASC'],axis=1)\n",
    "\n",
    "df_clean['DT_NOTIFIC']   = pd.to_datetime(df_clean['DT_NOTIFIC'])\n",
    "df_clean['DT_SIN_PRI']   = pd.to_datetime(df_clean['DT_SIN_PRI'])\n",
    "df_clean['DT_NASC_YEAR'] = pd.to_datetime(df_clean['DT_NASC_YEAR'])\n",
    "df_clean['DT_INVEST']    = pd.to_datetime(df_clean['DT_INVEST'])\n",
    "df_clean['DT_ENCERRA']   = pd.to_datetime(df_clean['DT_ENCERRA'])\n",
    "\n",
    "df_clean['REGIAO']     = df_clean['REGIAO'].astype('category')\n",
    "df_clean['MUNICIPIO']  = df_clean['MUNICIPIO'].astype('category')\n",
    "df_clean['ID_AGRAVO']  = df_clean['ID_AGRAVO'].astype('category')\n",
    "df_clean['ID_MUNICIP'] = df_clean['ID_MUNICIP'].astype('category')\n",
    "df_clean['ID_REGIONA'] = df_clean['ID_REGIONA'].astype('category')\n",
    "df_clean['ID_UNIDADE'] = df_clean['ID_UNIDADE'].astype('category')\n",
    "df_clean['ID_MN_RESI'] = df_clean['ID_MN_RESI'].astype('category')\n",
    "df_clean['ID_RG_RESI'] = df_clean['ID_RG_RESI'].astype('category')\n",
    "df_clean['ID_PAIS']    = df_clean['ID_PAIS'].astype('category')\n",
    "df_clean['CS_SEXO']    = df_clean['CS_SEXO'].astype('category')\n",
    "\n",
    "df_clean['SEM_PRI']    = df_clean['SEM_PRI'].astype('float')\n",
    "df_clean['ID_MN_RESI'] = df_clean['ID_MN_RESI'].astype('float')"
   ]
  },
  {
   "cell_type": "code",
   "execution_count": 18,
   "metadata": {},
   "outputs": [
    {
     "data": {
      "text/plain": [
       "TP_NOT                   int64\n",
       "ID_AGRAVO             category\n",
       "DT_NOTIFIC      datetime64[ns]\n",
       "SEM_NOT                float64\n",
       "NU_ANO                   int64\n",
       "SG_UF_NOT                int64\n",
       "ID_MUNICIP            category\n",
       "ID_REGIONA            category\n",
       "ID_UNIDADE            category\n",
       "DT_SIN_PRI      datetime64[ns]\n",
       "SEM_PRI                float64\n",
       "NU_IDADE_N             float64\n",
       "CS_SEXO               category\n",
       "CS_GESTANT             float64\n",
       "CS_RACA                float64\n",
       "CS_ESCOL_N             float64\n",
       "SG_UF                  float64\n",
       "ID_MN_RESI             float64\n",
       "ID_RG_RESI            category\n",
       "ID_PAIS               category\n",
       "DT_INVEST       datetime64[ns]\n",
       "FEBRE                  float64\n",
       "MIALGIA                float64\n",
       "CEFALEIA               float64\n",
       "EXANTEMA               float64\n",
       "VOMITO                 float64\n",
       "NAUSEA                 float64\n",
       "DOR_COSTAS             float64\n",
       "CONJUNTVIT             float64\n",
       "ARTRITE                float64\n",
       "ARTRALGIA              float64\n",
       "PETEQUIA_N             float64\n",
       "LEUCOPENIA             float64\n",
       "LACO                   float64\n",
       "DOR_RETRO              float64\n",
       "DIABETES               float64\n",
       "HEMATOLOG              float64\n",
       "HEPATOPAT              float64\n",
       "RENAL                  float64\n",
       "HIPERTENSA             float64\n",
       "ACIDO_PEPT             float64\n",
       "AUTO_IMUNE             float64\n",
       "RESUL_SORO             float64\n",
       "RESUL_NS1              float64\n",
       "RESUL_VI_N             float64\n",
       "RESUL_PCR_             float64\n",
       "HISTOPA_N              float64\n",
       "IMUNOH_N               float64\n",
       "HOSPITALIZ             float64\n",
       "CLASSI_FIN             float64\n",
       "CRITERIO               float64\n",
       "EVOLUCAO               float64\n",
       "DT_ENCERRA      datetime64[ns]\n",
       "TP_SISTEMA             float64\n",
       "CS_FLXRET              float64\n",
       "REGIAO                category\n",
       "MUNICIPIO             category\n",
       "DT_NASC_YEAR    datetime64[ns]\n",
       "dtype: object"
      ]
     },
     "execution_count": 18,
     "metadata": {},
     "output_type": "execute_result"
    }
   ],
   "source": [
    "df_clean.dtypes"
   ]
  },
  {
   "cell_type": "code",
   "execution_count": 19,
   "metadata": {},
   "outputs": [],
   "source": [
    "muni_list = df_clean['MUNICIPIO'].unique().tolist()"
   ]
  },
  {
   "cell_type": "code",
   "execution_count": 20,
   "metadata": {},
   "outputs": [],
   "source": [
    "regiao_list = df_clean['REGIAO'].unique().tolist()"
   ]
  },
  {
   "cell_type": "code",
   "execution_count": 21,
   "metadata": {},
   "outputs": [
    {
     "name": "stderr",
     "output_type": "stream",
     "text": [
      "/tmp/ipykernel_88554/2511805506.py:1: FutureWarning: The default of observed=False is deprecated and will be changed to True in a future version of pandas. Pass observed=False to retain current behavior or observed=True to adopt the future default and silence this warning.\n",
      "  df_clean.groupby(['REGIAO'])['RESUL_SORO'].sum()\n"
     ]
    },
    {
     "data": {
      "text/plain": [
       "REGIAO\n",
       "Araraquara               138123.0\n",
       "Araçatuba                109625.0\n",
       "Bauru                    205259.0\n",
       "Campinas                 216132.0\n",
       "Marília                   75595.0\n",
       "Presidente Prudente      219681.0\n",
       "Ribeirão Preto           187585.0\n",
       "Sorocaba                  47290.0\n",
       "São José do Rio Preto    236508.0\n",
       "São José dos Campos       66583.0\n",
       "São Paulo                138117.0\n",
       "Name: RESUL_SORO, dtype: float64"
      ]
     },
     "execution_count": 21,
     "metadata": {},
     "output_type": "execute_result"
    }
   ],
   "source": [
    "df_clean.groupby(['REGIAO'])['RESUL_SORO'].sum()"
   ]
  },
  {
   "cell_type": "code",
   "execution_count": 22,
   "metadata": {},
   "outputs": [
    {
     "name": "stderr",
     "output_type": "stream",
     "text": [
      "/tmp/ipykernel_88554/798060027.py:1: FutureWarning: The default of observed=False is deprecated and will be changed to True in a future version of pandas. Pass observed=False to retain current behavior or observed=True to adopt the future default and silence this warning.\n",
      "  df_clean.groupby(['MUNICIPIO'])['RESUL_SORO'].sum()\n"
     ]
    },
    {
     "data": {
      "text/plain": [
       "MUNICIPIO\n",
       "Adamantina            12008.0\n",
       "Adolfo                  151.0\n",
       "Aguaí                  3577.0\n",
       "Agudos                 5968.0\n",
       "Alambari                 41.0\n",
       "                       ...   \n",
       "Águas de São Pedro      117.0\n",
       "Álvares Florence         75.0\n",
       "Álvares Machado         989.0\n",
       "Álvaro de Carvalho       39.0\n",
       "Óleo                      4.0\n",
       "Name: RESUL_SORO, Length: 563, dtype: float64"
      ]
     },
     "execution_count": 22,
     "metadata": {},
     "output_type": "execute_result"
    }
   ],
   "source": [
    "df_clean.groupby(['MUNICIPIO'])['RESUL_SORO'].sum()"
   ]
  },
  {
   "cell_type": "markdown",
   "metadata": {},
   "source": [
    "## 4.0 Data Transform"
   ]
  },
  {
   "cell_type": "code",
   "execution_count": null,
   "metadata": {},
   "outputs": [],
   "source": []
  },
  {
   "cell_type": "code",
   "execution_count": null,
   "metadata": {},
   "outputs": [],
   "source": []
  },
  {
   "cell_type": "markdown",
   "metadata": {},
   "source": [
    "### 4.1 Save Clean Data Set"
   ]
  },
  {
   "cell_type": "code",
   "execution_count": null,
   "metadata": {},
   "outputs": [],
   "source": [
    "link = '../dados/df_clean.csv'\n",
    "df_clean.to_csv(link,sep=',',index=False)"
   ]
  },
  {
   "cell_type": "markdown",
   "metadata": {},
   "source": [
    "## 5.0 Exploratory Data Analysis"
   ]
  },
  {
   "cell_type": "code",
   "execution_count": null,
   "metadata": {},
   "outputs": [],
   "source": [
    "df_clean.describe()"
   ]
  },
  {
   "cell_type": "code",
   "execution_count": null,
   "metadata": {},
   "outputs": [],
   "source": [
    "df_numeric = df_clean.select_dtypes(include='number')"
   ]
  },
  {
   "cell_type": "code",
   "execution_count": null,
   "metadata": {},
   "outputs": [],
   "source": [
    "plt.figure(figsize=(20,12))\n",
    "sns.heatmap(df_numeric.corr(), annot=True,cmap='BrBG')\n",
    "plt.show()\n",
    "plt.close()"
   ]
  },
  {
   "cell_type": "code",
   "execution_count": null,
   "metadata": {},
   "outputs": [],
   "source": [
    "corr_matrix = df_numeric.corr()\n",
    "corr_matrix"
   ]
  },
  {
   "cell_type": "code",
   "execution_count": null,
   "metadata": {},
   "outputs": [],
   "source": [
    "colunas = df_numeric.select_dtypes(include='number').columns\n",
    "ncolunas = len(colunas)\n",
    "\n",
    "for i in range(0,ncolunas):\n",
    " plt.figure(figsize=(20,20))\n",
    " sns.displot(x=colunas[i],data=df_numeric)\n",
    " plt.show()\n",
    " plt.close()"
   ]
  },
  {
   "cell_type": "markdown",
   "metadata": {},
   "source": [
    "## 6.0 Data Modeling"
   ]
  },
  {
   "cell_type": "code",
   "execution_count": null,
   "metadata": {},
   "outputs": [],
   "source": [
    "# n_components         = 10\n",
    "# pca                  = PCA(n_components=n_components)\n",
    "# df_clean_reduzido   = pca.fit_transform(df_clean)\n",
    "# df_clean_reduzido   = pd.DataFrame(df_clean_reduzido)"
   ]
  },
  {
   "cell_type": "code",
   "execution_count": null,
   "metadata": {},
   "outputs": [],
   "source": []
  },
  {
   "cell_type": "code",
   "execution_count": null,
   "metadata": {},
   "outputs": [],
   "source": []
  },
  {
   "cell_type": "markdown",
   "metadata": {},
   "source": [
    "## 7.0 Data Preparing"
   ]
  },
  {
   "cell_type": "code",
   "execution_count": null,
   "metadata": {},
   "outputs": [],
   "source": []
  },
  {
   "cell_type": "code",
   "execution_count": null,
   "metadata": {},
   "outputs": [],
   "source": []
  },
  {
   "cell_type": "code",
   "execution_count": null,
   "metadata": {},
   "outputs": [],
   "source": []
  },
  {
   "cell_type": "markdown",
   "metadata": {},
   "source": [
    "## 8.0 ML Models"
   ]
  },
  {
   "cell_type": "code",
   "execution_count": null,
   "metadata": {},
   "outputs": [],
   "source": []
  },
  {
   "cell_type": "code",
   "execution_count": null,
   "metadata": {},
   "outputs": [],
   "source": []
  },
  {
   "cell_type": "code",
   "execution_count": null,
   "metadata": {},
   "outputs": [],
   "source": []
  },
  {
   "cell_type": "markdown",
   "metadata": {},
   "source": [
    "### 8.1 Traning"
   ]
  },
  {
   "cell_type": "code",
   "execution_count": null,
   "metadata": {},
   "outputs": [],
   "source": []
  },
  {
   "cell_type": "code",
   "execution_count": null,
   "metadata": {},
   "outputs": [],
   "source": []
  },
  {
   "cell_type": "code",
   "execution_count": null,
   "metadata": {},
   "outputs": [],
   "source": []
  },
  {
   "cell_type": "markdown",
   "metadata": {},
   "source": [
    "### 8.2 Validation"
   ]
  },
  {
   "cell_type": "code",
   "execution_count": null,
   "metadata": {},
   "outputs": [],
   "source": []
  },
  {
   "cell_type": "code",
   "execution_count": null,
   "metadata": {},
   "outputs": [],
   "source": []
  },
  {
   "cell_type": "code",
   "execution_count": null,
   "metadata": {},
   "outputs": [],
   "source": []
  },
  {
   "cell_type": "markdown",
   "metadata": {},
   "source": [
    "### 8.3 Measuring"
   ]
  },
  {
   "cell_type": "code",
   "execution_count": null,
   "metadata": {},
   "outputs": [],
   "source": []
  },
  {
   "cell_type": "code",
   "execution_count": null,
   "metadata": {},
   "outputs": [],
   "source": []
  },
  {
   "cell_type": "code",
   "execution_count": null,
   "metadata": {},
   "outputs": [],
   "source": []
  },
  {
   "cell_type": "markdown",
   "metadata": {},
   "source": [
    "### 8.4 Hyperparamerization"
   ]
  },
  {
   "cell_type": "code",
   "execution_count": null,
   "metadata": {},
   "outputs": [],
   "source": []
  },
  {
   "cell_type": "code",
   "execution_count": null,
   "metadata": {},
   "outputs": [],
   "source": []
  },
  {
   "cell_type": "code",
   "execution_count": null,
   "metadata": {},
   "outputs": [],
   "source": []
  },
  {
   "cell_type": "markdown",
   "metadata": {},
   "source": [
    "## 9.0 ML Models and Data Visualization"
   ]
  },
  {
   "cell_type": "code",
   "execution_count": null,
   "metadata": {},
   "outputs": [],
   "source": []
  },
  {
   "cell_type": "code",
   "execution_count": null,
   "metadata": {},
   "outputs": [],
   "source": []
  },
  {
   "cell_type": "code",
   "execution_count": null,
   "metadata": {},
   "outputs": [],
   "source": []
  }
 ],
 "metadata": {
  "colab": {
   "authorship_tag": "ABX9TyPGDooIhM2rQta2Rk8x0YbZ",
   "provenance": []
  },
  "kernelspec": {
   "display_name": "Python 3 (ipykernel)",
   "language": "python",
   "name": "python3"
  },
  "language_info": {
   "codemirror_mode": {
    "name": "ipython",
    "version": 3
   },
   "file_extension": ".py",
   "mimetype": "text/x-python",
   "name": "python",
   "nbconvert_exporter": "python",
   "pygments_lexer": "ipython3",
   "version": "3.12.7"
  }
 },
 "nbformat": 4,
 "nbformat_minor": 4
}
