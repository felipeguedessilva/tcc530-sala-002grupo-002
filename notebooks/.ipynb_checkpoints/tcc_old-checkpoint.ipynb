{
 "cells": [
  {
   "cell_type": "markdown",
   "metadata": {},
   "source": [
    "# Trablho de Conclusão de Curso - UNIVESP - 1S/2025- Notebook1"
   ]
  },
  {
   "cell_type": "markdown",
   "metadata": {},
   "source": [
    "# Código: tcc530-sala-002grupo-002"
   ]
  },
  {
   "cell_type": "markdown",
   "metadata": {},
   "source": [
    "## 1.0 Packges"
   ]
  },
  {
   "cell_type": "markdown",
   "metadata": {},
   "source": [
    "### Packges Import"
   ]
  },
  {
   "cell_type": "code",
   "execution_count": 1,
   "metadata": {
    "executionInfo": {
     "elapsed": 2593,
     "status": "ok",
     "timestamp": 1739237469924,
     "user": {
      "displayName": "Felipe Silva",
      "userId": "04798968727763788783"
     },
     "user_tz": 180
    },
    "id": "VK3zJVi_mmB2"
   },
   "outputs": [],
   "source": [
    "# Packages\n",
    "\n",
    "# Bibliotecas Gerais\n",
    "import numpy                   as np\n",
    "import pandas                  as pd\n",
    "import matplotlib.pyplot       as plt\n",
    "import seaborn                 as sns\n",
    "import sys\n",
    "import time\n",
    "from scipy                     import stats\n",
    "\n",
    "#Bibliotecas de Regressão\n",
    "from sklearn.model_selection import train_test_split, cross_val_score, GridSearchCV\n",
    "from sklearn.preprocessing   import StandardScaler\n",
    "from sklearn.svm             import SVR\n",
    "from sklearn.tree            import DecisionTreeRegressor\n",
    "from sklearn.linear_model    import LinearRegression, Ridge, Lasso, LassoCV, ElasticNet, ElasticNetCV, HuberRegressor, LassoLars, BayesianRidge\n",
    "from sklearn.linear_model    import SGDRegressor\n",
    "from sklearn.ensemble        import RandomForestRegressor, AdaBoostRegressor, GradientBoostingRegressor, ExtraTreesRegressor\n",
    "\n",
    "# Bibliotecas de Clusterização\n",
    "import scipy.cluster.hierarchy as shc\n",
    "from sklearn.cluster           import KMeans\n",
    "from sklearn.metrics           import silhouette_score, davies_bouldin_score,v_measure_score\n",
    "from sklearn.mixture           import GaussianMixture\n",
    "from sklearn.neural_network    import MLPRegressor\n",
    "from sklearn.metrics           import r2_score, mean_absolute_error,mean_squared_error\n",
    "from sklearn.model_selection   import GridSearchCV\n",
    "from sklearn.model_selection   import RandomizedSearchCV\n",
    "from sklearn.neighbors         import NearestNeighbors\n",
    "from sklearn.cluster           import DBSCAN\n",
    "from sklearn.cluster           import AgglomerativeClustering\n",
    "\n",
    "# Bibliotecas Classificação\n",
    "from sklearn                       import metrics\n",
    "from sklearn.preprocessing         import MinMaxScaler\n",
    "from sklearn.neighbors             import KNeighborsClassifier\n",
    "from sklearn.linear_model          import LogisticRegression\n",
    "from sklearn.tree                  import DecisionTreeClassifier\n",
    "from sklearn.ensemble              import RandomForestClassifier\n",
    "from sklearn.naive_bayes           import GaussianNB, MultinomialNB, ComplementNB, BernoulliNB\n",
    "from sklearn.svm                   import SVC\n",
    "from sklearn.neural_network        import MLPClassifier\n",
    "from sklearn.metrics               import accuracy_score, precision_score, f1_score, recall_score\n",
    "from sklearn.metrics               import classification_report\n",
    "from sklearn.metrics               import ConfusionMatrixDisplay\n",
    "from sklearn.metrics               import RocCurveDisplay\n",
    "\n",
    "# Bibliotecas de Recomendação\n",
    "from sklearn.metrics.pairwise      import cosine_similarity\n",
    "\n",
    "# Redução de Dimensionalidade\n",
    "from sklearn.decomposition         import PCA\n",
    "from sklearn.decomposition         import TruncatedSVD"
   ]
  },
  {
   "cell_type": "markdown",
   "metadata": {},
   "source": [
    "### Packges Version Control"
   ]
  },
  {
   "cell_type": "code",
   "execution_count": 2,
   "metadata": {
    "executionInfo": {
     "elapsed": 1658,
     "status": "ok",
     "timestamp": 1739237531475,
     "user": {
      "displayName": "Felipe Silva",
      "userId": "04798968727763788783"
     },
     "user_tz": 180
    },
    "id": "GFxtDAUZm_Y4"
   },
   "outputs": [
    {
     "name": "stdout",
     "output_type": "stream",
     "text": [
      "Note: you may need to restart the kernel to use updated packages.\n"
     ]
    }
   ],
   "source": [
    "pip freeze --local > ../requeriments.txt"
   ]
  },
  {
   "cell_type": "markdown",
   "metadata": {},
   "source": [
    "## 2.0 Data Read"
   ]
  },
  {
   "cell_type": "code",
   "execution_count": 3,
   "metadata": {
    "colab": {
     "base_uri": "https://localhost:8080/"
    },
    "executionInfo": {
     "elapsed": 101594,
     "status": "ok",
     "timestamp": 1739238310952,
     "user": {
      "displayName": "Felipe Silva",
      "userId": "04798968727763788783"
     },
     "user_tz": 180
    },
    "id": "oVGqMqLonq_I",
    "outputId": "2e212bae-8525-4297-d836-47ad204bab4b"
   },
   "outputs": [],
   "source": [
    "link   = '../dados/dados_filtrados_2014.csv'\n",
    "df2014 = pd.read_csv(link,sep=\",\",engine='python')\n",
    "\n",
    "link   = '../dados/dados_filtrados_2015.csv'\n",
    "df2015 = pd.read_csv(link,sep=\",\",engine='python')\n",
    "\n",
    "link   = '../dados/dados_filtrados_2016.csv'\n",
    "df2016 = pd.read_csv(link,sep=\",\",engine='python')\n",
    "\n",
    "link   = '../dados/dados_filtrados_2017.csv'\n",
    "df2017 = pd.read_csv(link,sep=\",\",engine='python')\n",
    "\n",
    "link   = '../dados/dados_filtrados_2018.csv'\n",
    "df2018 = pd.read_csv(link,sep=\",\",engine='python')\n",
    "\n",
    "link   = '../dados/dados_filtrados_2019.csv'\n",
    "df2019 = pd.read_csv(link,sep=\",\",engine='python')\n",
    "\n",
    "link   = '../dados/dados_filtrados_2020.csv'\n",
    "df2020 = pd.read_csv(link,sep=\",\",engine='python')\n",
    "\n",
    "link   = '../dados/dados_filtrados_2021.csv'\n",
    "df2021 = pd.read_csv(link,sep=\",\",engine='python')\n",
    "\n",
    "link   = '../dados/dados_filtrados_2022.csv'\n",
    "df2022 = pd.read_csv(link,sep=\",\",engine='python')\n",
    "\n",
    "link   = '../dados/dados_filtrados_2023.csv'\n",
    "df2023 = pd.read_csv(link,sep=\",\",engine='python')"
   ]
  },
  {
   "cell_type": "markdown",
   "metadata": {},
   "source": [
    "## 3.0 Data Join"
   ]
  },
  {
   "cell_type": "code",
   "execution_count": 4,
   "metadata": {
    "executionInfo": {
     "elapsed": 890,
     "status": "ok",
     "timestamp": 1739238791731,
     "user": {
      "displayName": "Felipe Silva",
      "userId": "04798968727763788783"
     },
     "user_tz": 180
    },
    "id": "2CLoW4GDs7AZ"
   },
   "outputs": [],
   "source": [
    "df2021 = df2021.rename(columns={\"ANO_NASC\": \"DT_NASC\"})\n",
    "df2022 = df2022.rename(columns={\"ANO_NASC\": \"DT_NASC\"})\n",
    "df2023 = df2023.rename(columns={\"ANO_NASC\": \"DT_NASC\"})"
   ]
  },
  {
   "cell_type": "code",
   "execution_count": 5,
   "metadata": {
    "executionInfo": {
     "elapsed": 12279,
     "status": "ok",
     "timestamp": 1739239019052,
     "user": {
      "displayName": "Felipe Silva",
      "userId": "04798968727763788783"
     },
     "user_tz": 180
    },
    "id": "x2CAVpekteRF"
   },
   "outputs": [],
   "source": [
    "df_full = pd.concat([df2014, df2015,df2016,df2017,df2018,df2019,df2020,df2021,df2022,df2023], axis=0, ignore_index=True)"
   ]
  },
  {
   "cell_type": "code",
   "execution_count": 6,
   "metadata": {
    "executionInfo": {
     "elapsed": 17,
     "status": "ok",
     "timestamp": 1739239019060,
     "user": {
      "displayName": "Felipe Silva",
      "userId": "04798968727763788783"
     },
     "user_tz": 180
    },
    "id": "Lzlbva4SnvtG"
   },
   "outputs": [],
   "source": [
    "def verificacao_nulos(df_true,target_clean,col_ok):\n",
    "\n",
    "  df = df_true.copy()\n",
    "\n",
    "  target_clean_por = 100*target_clean\n",
    "\n",
    "  names_df  = df.columns\n",
    "  nnames_df = len(names_df)\n",
    "  porcent_df_null = df.isnull().sum()/df.shape[0]\n",
    "\n",
    "  for i in range(0,nnames_df):\n",
    "    \n",
    "      if(porcent_df_null[i]>target_clean):\n",
    "\n",
    "          print('A feature %s possui mais do que %.2f porcento de dados nulos'%(names_df[i],target_clean_por))\n",
    "\n",
    "      else:\n",
    "\n",
    "          col_ok.append(names_df[i])\n",
    "          "
   ]
  },
  {
   "cell_type": "code",
   "execution_count": null,
   "metadata": {
    "id": "rMi7JCrIudxp"
   },
   "outputs": [],
   "source": [
    "target_clean = 0.5\n",
    "col_ok       = []\n",
    "verificacao_nulos(df_full,target_clean,col_ok)"
   ]
  },
  {
   "cell_type": "code",
   "execution_count": null,
   "metadata": {
    "id": "r18JbGv-uhvt"
   },
   "outputs": [],
   "source": [
    "df_clean = df_full[col_ok].dropna(axis=0).reset_index(drop=True)\n",
    "df_clean.head(5)"
   ]
  },
  {
   "cell_type": "code",
   "execution_count": null,
   "metadata": {},
   "outputs": [],
   "source": [
    "reduct = 100*(1-(df_clean.shape[0]/df_full.shape[0]))\n",
    "print('Full Size: %d'%df_full.shape[0])\n",
    "print('Clean Size: %d'%df_clean.shape[0])\n",
    "print('Reduction in Size: %f'%reduct)"
   ]
  },
  {
   "cell_type": "code",
   "execution_count": null,
   "metadata": {},
   "outputs": [],
   "source": [
    "df_clean.columns"
   ]
  },
  {
   "cell_type": "code",
   "execution_count": null,
   "metadata": {},
   "outputs": [],
   "source": [
    "df_clean = df_clean.ffill()"
   ]
  },
  {
   "cell_type": "code",
   "execution_count": null,
   "metadata": {},
   "outputs": [],
   "source": [
    "target_clean = 0.5\n",
    "col_ok       = []\n",
    "verificacao_nulos(df_clean,target_clean,col_ok)"
   ]
  },
  {
   "cell_type": "code",
   "execution_count": null,
   "metadata": {},
   "outputs": [],
   "source": [
    "link   = '../dados/municipios_sp_edited.csv'\n",
    "df_muni_sp = pd.read_csv(link,sep=\",\")\n",
    "df_muni_sp = df_muni_sp.drop(['ID_ESTADO','ESTADO'],axis=1)\n",
    "df_muni_sp.head()"
   ]
  },
  {
   "cell_type": "code",
   "execution_count": null,
   "metadata": {},
   "outputs": [],
   "source": [
    "df_muni_sp = df_muni_sp.rename(columns={\"ID_MUNICIPIO\": \"ID_MUNICIP\"})"
   ]
  },
  {
   "cell_type": "code",
   "execution_count": null,
   "metadata": {},
   "outputs": [],
   "source": [
    "df_clean = df_clean.merge(df_muni_sp,on=['ID_MUNICIP'])\n",
    "df_clean.head(5)"
   ]
  },
  {
   "cell_type": "code",
   "execution_count": null,
   "metadata": {},
   "outputs": [],
   "source": [
    "df_clean.dtypes"
   ]
  },
  {
   "cell_type": "code",
   "execution_count": null,
   "metadata": {},
   "outputs": [],
   "source": [
    "df_clean['DT_NASC_YEAR'] = pd.DatetimeIndex(df_clean['DT_NASC']).year\n",
    "df_clean = df_clean.drop(['DT_NASC'],axis=1)\n",
    "\n",
    "df_clean['DT_NOTIFIC']   = pd.to_datetime(df_clean['DT_NOTIFIC'])\n",
    "df_clean['DT_SIN_PRI']   = pd.to_datetime(df_clean['DT_SIN_PRI'])\n",
    "df_clean['DT_NASC_YEAR'] = pd.to_datetime(df_clean['DT_NASC_YEAR'])\n",
    "df_clean['DT_INVEST']    = pd.to_datetime(df_clean['DT_INVEST'])\n",
    "df_clean['DT_ENCERRA']   = pd.to_datetime(df_clean['DT_ENCERRA'])\n",
    "\n",
    "df_clean['REGIAO']     = df_clean['REGIAO'].astype('category')\n",
    "df_clean['MUNICIPIO']  = df_clean['MUNICIPIO'].astype('category')\n",
    "df_clean['ID_AGRAVO']  = df_clean['ID_AGRAVO'].astype('category')\n",
    "df_clean['ID_MUNICIP'] = df_clean['ID_MUNICIP'].astype('category')\n",
    "df_clean['ID_REGIONA'] = df_clean['ID_REGIONA'].astype('category')\n",
    "df_clean['ID_UNIDADE'] = df_clean['ID_UNIDADE'].astype('category')\n",
    "df_clean['ID_MN_RESI'] = df_clean['ID_MN_RESI'].astype('category')\n",
    "df_clean['ID_RG_RESI'] = df_clean['ID_RG_RESI'].astype('category')\n",
    "df_clean['ID_PAIS']    = df_clean['ID_PAIS'].astype('category')\n",
    "df_clean['CS_SEXO']    = df_clean['CS_SEXO'].astype('category')\n",
    "\n",
    "df_clean['SEM_PRI']    = df_clean['SEM_PRI'].astype('float')\n",
    "df_clean['ID_MN_RESI'] = df_clean['ID_MN_RESI'].astype('float')"
   ]
  },
  {
   "cell_type": "code",
   "execution_count": null,
   "metadata": {},
   "outputs": [],
   "source": [
    "df_clean.dtypes"
   ]
  },
  {
   "cell_type": "code",
   "execution_count": null,
   "metadata": {},
   "outputs": [],
   "source": [
    "muni_list = df_clean['MUNICIPIO'].unique().tolist()"
   ]
  },
  {
   "cell_type": "code",
   "execution_count": null,
   "metadata": {},
   "outputs": [],
   "source": [
    "regiao_list = df_clean['REGIAO'].unique().tolist()"
   ]
  },
  {
   "cell_type": "code",
   "execution_count": null,
   "metadata": {},
   "outputs": [],
   "source": [
    "df_clean.groupby(['REGIAO'])['RESUL_SORO'].sum()"
   ]
  },
  {
   "cell_type": "code",
   "execution_count": null,
   "metadata": {},
   "outputs": [],
   "source": [
    "df_clean.groupby(['MUNICIPIO'])['RESUL_SORO'].sum()"
   ]
  },
  {
   "cell_type": "markdown",
   "metadata": {},
   "source": [
    "## 4.0 Data Transform"
   ]
  },
  {
   "cell_type": "code",
   "execution_count": null,
   "metadata": {},
   "outputs": [],
   "source": []
  },
  {
   "cell_type": "code",
   "execution_count": null,
   "metadata": {},
   "outputs": [],
   "source": []
  },
  {
   "cell_type": "markdown",
   "metadata": {},
   "source": [
    "### 4.1 Save Clean Data Set"
   ]
  },
  {
   "cell_type": "code",
   "execution_count": null,
   "metadata": {},
   "outputs": [],
   "source": [
    "link = '../dados/df_clean.csv'\n",
    "df_clean.to_csv(link,sep=',',index=False)"
   ]
  },
  {
   "cell_type": "markdown",
   "metadata": {},
   "source": [
    "## 5.0 Exploratory Data Analysis"
   ]
  },
  {
   "cell_type": "code",
   "execution_count": null,
   "metadata": {},
   "outputs": [],
   "source": [
    "df_clean.describe()"
   ]
  },
  {
   "cell_type": "code",
   "execution_count": null,
   "metadata": {},
   "outputs": [],
   "source": [
    "df_numeric = df_clean.select_dtypes(include='number')"
   ]
  },
  {
   "cell_type": "code",
   "execution_count": null,
   "metadata": {},
   "outputs": [],
   "source": [
    "plt.figure(figsize=(20,12))\n",
    "sns.heatmap(df_numeric.corr(), annot=True,cmap='BrBG')\n",
    "plt.show()\n",
    "plt.close()"
   ]
  },
  {
   "cell_type": "code",
   "execution_count": null,
   "metadata": {},
   "outputs": [],
   "source": [
    "corr_matrix = df_numeric.corr()\n",
    "corr_matrix"
   ]
  },
  {
   "cell_type": "code",
   "execution_count": null,
   "metadata": {},
   "outputs": [],
   "source": [
    "colunas = df_numeric.select_dtypes(include='number').columns\n",
    "ncolunas = len(colunas)\n",
    "\n",
    "for i in range(0,ncolunas):\n",
    " plt.figure(figsize=(20,20))\n",
    " sns.displot(x=colunas[i],data=df_numeric)\n",
    " plt.show()\n",
    " plt.close()"
   ]
  },
  {
   "cell_type": "markdown",
   "metadata": {},
   "source": [
    "## 6.0 Data Modeling"
   ]
  },
  {
   "cell_type": "code",
   "execution_count": null,
   "metadata": {},
   "outputs": [],
   "source": [
    "# n_components         = 10\n",
    "# pca                  = PCA(n_components=n_components)\n",
    "# df_clean_reduzido   = pca.fit_transform(df_clean)\n",
    "# df_clean_reduzido   = pd.DataFrame(df_clean_reduzido)"
   ]
  },
  {
   "cell_type": "code",
   "execution_count": null,
   "metadata": {},
   "outputs": [],
   "source": []
  },
  {
   "cell_type": "code",
   "execution_count": null,
   "metadata": {},
   "outputs": [],
   "source": []
  },
  {
   "cell_type": "markdown",
   "metadata": {},
   "source": [
    "## 7.0 Data Preparing"
   ]
  },
  {
   "cell_type": "code",
   "execution_count": null,
   "metadata": {},
   "outputs": [],
   "source": []
  },
  {
   "cell_type": "code",
   "execution_count": null,
   "metadata": {},
   "outputs": [],
   "source": []
  },
  {
   "cell_type": "code",
   "execution_count": null,
   "metadata": {},
   "outputs": [],
   "source": []
  },
  {
   "cell_type": "markdown",
   "metadata": {},
   "source": [
    "## 8.0 ML Models"
   ]
  },
  {
   "cell_type": "code",
   "execution_count": null,
   "metadata": {},
   "outputs": [],
   "source": []
  },
  {
   "cell_type": "code",
   "execution_count": null,
   "metadata": {},
   "outputs": [],
   "source": []
  },
  {
   "cell_type": "code",
   "execution_count": null,
   "metadata": {},
   "outputs": [],
   "source": []
  },
  {
   "cell_type": "markdown",
   "metadata": {},
   "source": [
    "### 8.1 Traning"
   ]
  },
  {
   "cell_type": "code",
   "execution_count": null,
   "metadata": {},
   "outputs": [],
   "source": []
  },
  {
   "cell_type": "code",
   "execution_count": null,
   "metadata": {},
   "outputs": [],
   "source": []
  },
  {
   "cell_type": "code",
   "execution_count": null,
   "metadata": {},
   "outputs": [],
   "source": []
  },
  {
   "cell_type": "markdown",
   "metadata": {},
   "source": [
    "### 8.2 Validation"
   ]
  },
  {
   "cell_type": "code",
   "execution_count": null,
   "metadata": {},
   "outputs": [],
   "source": []
  },
  {
   "cell_type": "code",
   "execution_count": null,
   "metadata": {},
   "outputs": [],
   "source": []
  },
  {
   "cell_type": "code",
   "execution_count": null,
   "metadata": {},
   "outputs": [],
   "source": []
  },
  {
   "cell_type": "markdown",
   "metadata": {},
   "source": [
    "### 8.3 Measuring"
   ]
  },
  {
   "cell_type": "code",
   "execution_count": null,
   "metadata": {},
   "outputs": [],
   "source": []
  },
  {
   "cell_type": "code",
   "execution_count": null,
   "metadata": {},
   "outputs": [],
   "source": []
  },
  {
   "cell_type": "code",
   "execution_count": null,
   "metadata": {},
   "outputs": [],
   "source": []
  },
  {
   "cell_type": "markdown",
   "metadata": {},
   "source": [
    "### 8.4 Hyperparamerization"
   ]
  },
  {
   "cell_type": "code",
   "execution_count": null,
   "metadata": {},
   "outputs": [],
   "source": []
  },
  {
   "cell_type": "code",
   "execution_count": null,
   "metadata": {},
   "outputs": [],
   "source": []
  },
  {
   "cell_type": "code",
   "execution_count": null,
   "metadata": {},
   "outputs": [],
   "source": []
  },
  {
   "cell_type": "markdown",
   "metadata": {},
   "source": [
    "## 9.0 ML Models and Data Visualization"
   ]
  },
  {
   "cell_type": "code",
   "execution_count": null,
   "metadata": {},
   "outputs": [],
   "source": []
  },
  {
   "cell_type": "code",
   "execution_count": null,
   "metadata": {},
   "outputs": [],
   "source": []
  },
  {
   "cell_type": "code",
   "execution_count": null,
   "metadata": {},
   "outputs": [],
   "source": []
  }
 ],
 "metadata": {
  "colab": {
   "authorship_tag": "ABX9TyPGDooIhM2rQta2Rk8x0YbZ",
   "provenance": []
  },
  "kernelspec": {
   "display_name": "Python 3 (ipykernel)",
   "language": "python",
   "name": "python3"
  },
  "language_info": {
   "codemirror_mode": {
    "name": "ipython",
    "version": 3
   },
   "file_extension": ".py",
   "mimetype": "text/x-python",
   "name": "python",
   "nbconvert_exporter": "python",
   "pygments_lexer": "ipython3",
   "version": "3.12.7"
  }
 },
 "nbformat": 4,
 "nbformat_minor": 4
}
