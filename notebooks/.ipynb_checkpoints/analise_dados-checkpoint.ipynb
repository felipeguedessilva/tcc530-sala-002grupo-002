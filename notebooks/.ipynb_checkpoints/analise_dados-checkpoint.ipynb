{
 "cells": [
  {
   "cell_type": "code",
   "execution_count": 2,
   "metadata": {
    "executionInfo": {
     "elapsed": 2593,
     "status": "ok",
     "timestamp": 1739237469924,
     "user": {
      "displayName": "Felipe Silva",
      "userId": "04798968727763788783"
     },
     "user_tz": 180
    },
    "id": "VK3zJVi_mmB2"
   },
   "outputs": [],
   "source": [
    "# Packages\n",
    "\n",
    "# Bibliotecas Gerais\n",
    "import numpy                   as np\n",
    "import pandas                  as pd\n",
    "import matplotlib.pyplot       as plt\n",
    "import seaborn                 as sns\n",
    "import sys\n",
    "import time\n",
    "from scipy                     import stats\n",
    "\n",
    "#Bibliotecas de Regressão\n",
    "from sklearn.model_selection import train_test_split, cross_val_score, GridSearchCV\n",
    "from sklearn.preprocessing   import StandardScaler\n",
    "from sklearn.svm             import SVR\n",
    "from sklearn.tree            import DecisionTreeRegressor\n",
    "from sklearn.linear_model    import LinearRegression, Ridge, Lasso, LassoCV, ElasticNet, ElasticNetCV, HuberRegressor, LassoLars, BayesianRidge\n",
    "from sklearn.linear_model    import SGDRegressor\n",
    "from sklearn.ensemble        import RandomForestRegressor, AdaBoostRegressor, GradientBoostingRegressor, ExtraTreesRegressor\n",
    "\n",
    "# Bibliotecas de Clusterização\n",
    "import scipy.cluster.hierarchy as shc\n",
    "from sklearn.cluster           import KMeans\n",
    "from sklearn.metrics           import silhouette_score, davies_bouldin_score,v_measure_score\n",
    "from sklearn.mixture           import GaussianMixture\n",
    "from sklearn.neural_network    import MLPRegressor\n",
    "from sklearn.metrics           import r2_score, mean_absolute_error,mean_squared_error\n",
    "from sklearn.model_selection   import GridSearchCV\n",
    "from sklearn.model_selection   import RandomizedSearchCV\n",
    "from sklearn.neighbors         import NearestNeighbors\n",
    "from sklearn.cluster           import DBSCAN\n",
    "from sklearn.cluster           import AgglomerativeClustering\n",
    "\n",
    "# Bibliotecas Classificação\n",
    "from sklearn                       import metrics\n",
    "from sklearn.preprocessing         import MinMaxScaler\n",
    "from sklearn.neighbors             import KNeighborsClassifier\n",
    "from sklearn.linear_model          import LogisticRegression\n",
    "from sklearn.tree                  import DecisionTreeClassifier\n",
    "from sklearn.ensemble              import RandomForestClassifier\n",
    "from sklearn.naive_bayes           import GaussianNB, MultinomialNB, ComplementNB, BernoulliNB\n",
    "from sklearn.svm                   import SVC\n",
    "from sklearn.neural_network        import MLPClassifier\n",
    "from sklearn.metrics               import accuracy_score, precision_score, f1_score, recall_score\n",
    "from sklearn.metrics               import classification_report\n",
    "from sklearn.metrics               import ConfusionMatrixDisplay\n",
    "from sklearn.metrics               import RocCurveDisplay\n",
    "\n",
    "# Bibliotecas de Recomendação\n",
    "from sklearn.metrics.pairwise      import cosine_similarity\n",
    "\n",
    "# Redução de Dimensionalidade\n",
    "from sklearn.decomposition         import PCA\n",
    "from sklearn.decomposition         import TruncatedSVD"
   ]
  },
  {
   "cell_type": "code",
   "execution_count": 5,
   "metadata": {
    "executionInfo": {
     "elapsed": 1658,
     "status": "ok",
     "timestamp": 1739237531475,
     "user": {
      "displayName": "Felipe Silva",
      "userId": "04798968727763788783"
     },
     "user_tz": 180
    },
    "id": "GFxtDAUZm_Y4"
   },
   "outputs": [
    {
     "name": "stdout",
     "output_type": "stream",
     "text": [
      "Note: you may need to restart the kernel to use updated packages.\n"
     ]
    }
   ],
   "source": [
    "pip freeze --local > ../requeriments.txt"
   ]
  },
  {
   "cell_type": "code",
   "execution_count": 9,
   "metadata": {
    "colab": {
     "base_uri": "https://localhost:8080/"
    },
    "executionInfo": {
     "elapsed": 101594,
     "status": "ok",
     "timestamp": 1739238310952,
     "user": {
      "displayName": "Felipe Silva",
      "userId": "04798968727763788783"
     },
     "user_tz": 180
    },
    "id": "oVGqMqLonq_I",
    "outputId": "2e212bae-8525-4297-d836-47ad204bab4b"
   },
   "outputs": [
    {
     "name": "stderr",
     "output_type": "stream",
     "text": [
      "/tmp/ipykernel_105150/1855454533.py:2: DtypeWarning: Columns (22) have mixed types. Specify dtype option on import or set low_memory=False.\n",
      "  df2014 = pd.read_csv(link,sep=\",\")\n",
      "/tmp/ipykernel_105150/1855454533.py:5: DtypeWarning: Columns (44,85,101) have mixed types. Specify dtype option on import or set low_memory=False.\n",
      "  df2015 = pd.read_csv(link,sep=\",\")\n",
      "/tmp/ipykernel_105150/1855454533.py:8: DtypeWarning: Columns (6,10,18,22,44,45,46,54,64,68,74,85,101) have mixed types. Specify dtype option on import or set low_memory=False.\n",
      "  df2016 = pd.read_csv(link,sep=\",\")\n",
      "/tmp/ipykernel_105150/1855454533.py:11: DtypeWarning: Columns (46,101) have mixed types. Specify dtype option on import or set low_memory=False.\n",
      "  df2017 = pd.read_csv(link,sep=\",\")\n",
      "/tmp/ipykernel_105150/1855454533.py:14: DtypeWarning: Columns (45,46,101) have mixed types. Specify dtype option on import or set low_memory=False.\n",
      "  df2018 = pd.read_csv(link,sep=\",\")\n",
      "/tmp/ipykernel_105150/1855454533.py:17: DtypeWarning: Columns (44,46) have mixed types. Specify dtype option on import or set low_memory=False.\n",
      "  df2019 = pd.read_csv(link,sep=\",\")\n",
      "/tmp/ipykernel_105150/1855454533.py:20: DtypeWarning: Columns (44,46) have mixed types. Specify dtype option on import or set low_memory=False.\n",
      "  df2020 = pd.read_csv(link,sep=\",\")\n",
      "/tmp/ipykernel_105150/1855454533.py:23: DtypeWarning: Columns (22,44,46,101) have mixed types. Specify dtype option on import or set low_memory=False.\n",
      "  df2021 = pd.read_csv(link,sep=\",\")\n",
      "/tmp/ipykernel_105150/1855454533.py:26: DtypeWarning: Columns (44,46) have mixed types. Specify dtype option on import or set low_memory=False.\n",
      "  df2022 = pd.read_csv(link,sep=\",\")\n",
      "/tmp/ipykernel_105150/1855454533.py:29: DtypeWarning: Columns (44,46,54) have mixed types. Specify dtype option on import or set low_memory=False.\n",
      "  df2023 = pd.read_csv(link,sep=\",\")\n"
     ]
    }
   ],
   "source": [
    "link   = '../dados/dados_filtrados_2014.csv'\n",
    "df2014 = pd.read_csv(link,sep=\",\")\n",
    "\n",
    "link   = '../dados/dados_filtrados_2015.csv'\n",
    "df2015 = pd.read_csv(link,sep=\",\")\n",
    "\n",
    "link   = '../dados/dados_filtrados_2016.csv'\n",
    "df2016 = pd.read_csv(link,sep=\",\")\n",
    "\n",
    "link   = '../dados/dados_filtrados_2017.csv'\n",
    "df2017 = pd.read_csv(link,sep=\",\")\n",
    "\n",
    "link   = '../dados/dados_filtrados_2018.csv'\n",
    "df2018 = pd.read_csv(link,sep=\",\")\n",
    "\n",
    "link   = '../dados/dados_filtrados_2019.csv'\n",
    "df2019 = pd.read_csv(link,sep=\",\")\n",
    "\n",
    "link   = '../dados/dados_filtrados_2020.csv'\n",
    "df2020 = pd.read_csv(link,sep=\",\")\n",
    "\n",
    "link   = '../dados/dados_filtrados_2021.csv'\n",
    "df2021 = pd.read_csv(link,sep=\",\")\n",
    "\n",
    "link   = '../dados/dados_filtrados_2022.csv'\n",
    "df2022 = pd.read_csv(link,sep=\",\")\n",
    "\n",
    "link   = '../dados/dados_filtrados_2023.csv'\n",
    "df2023 = pd.read_csv(link,sep=\",\")"
   ]
  },
  {
   "cell_type": "code",
   "execution_count": 12,
   "metadata": {
    "executionInfo": {
     "elapsed": 890,
     "status": "ok",
     "timestamp": 1739238791731,
     "user": {
      "displayName": "Felipe Silva",
      "userId": "04798968727763788783"
     },
     "user_tz": 180
    },
    "id": "2CLoW4GDs7AZ"
   },
   "outputs": [],
   "source": [
    "df2021 = df2021.rename(columns={\"ANO_NASC\": \"DT_NASC\"})\n",
    "df2022 = df2022.rename(columns={\"ANO_NASC\": \"DT_NASC\"})\n",
    "df2023 = df2023.rename(columns={\"ANO_NASC\": \"DT_NASC\"})"
   ]
  },
  {
   "cell_type": "code",
   "execution_count": 13,
   "metadata": {
    "executionInfo": {
     "elapsed": 12279,
     "status": "ok",
     "timestamp": 1739239019052,
     "user": {
      "displayName": "Felipe Silva",
      "userId": "04798968727763788783"
     },
     "user_tz": 180
    },
    "id": "x2CAVpekteRF"
   },
   "outputs": [],
   "source": [
    "df_full = pd.concat([df2014, df2015,df2016,df2017,df2018,df2019,df2020,df2021,df2022,df2023], axis=0, ignore_index=True)"
   ]
  },
  {
   "cell_type": "code",
   "execution_count": 39,
   "metadata": {
    "executionInfo": {
     "elapsed": 17,
     "status": "ok",
     "timestamp": 1739239019060,
     "user": {
      "displayName": "Felipe Silva",
      "userId": "04798968727763788783"
     },
     "user_tz": 180
    },
    "id": "Lzlbva4SnvtG"
   },
   "outputs": [],
   "source": [
    "def verificacao_nulos(df_true,target_clean,col_ok):\n",
    "\n",
    "  df = df_true.copy()\n",
    "\n",
    "  target_clean_por = 100*target_clean\n",
    "\n",
    "  names_df  = df.columns\n",
    "  nnames_df = len(names_df)\n",
    "  porcent_df_null = df.isnull().sum()/df.shape[0]\n",
    "\n",
    "  for i in range(0,nnames_df):\n",
    "    \n",
    "      if(porcent_df_null[i]>target_clean):\n",
    "\n",
    "          print('A feature %s possui mais do que %.2f porcento de dados nulos'%(names_df[i],target_clean_por))\n",
    "\n",
    "      else:\n",
    "\n",
    "          col_ok.append(names_df[i])\n",
    "          "
   ]
  },
  {
   "cell_type": "code",
   "execution_count": 54,
   "metadata": {
    "id": "rMi7JCrIudxp"
   },
   "outputs": [
    {
     "name": "stdout",
     "output_type": "stream",
     "text": [
      "A feature ID_OCUPA_N possui mais do que 50.00 porcento de dados nulos\n",
      "A feature DT_CHIK_S1 possui mais do que 50.00 porcento de dados nulos\n",
      "A feature DT_CHIK_S2 possui mais do que 50.00 porcento de dados nulos\n",
      "A feature DT_PRNT possui mais do que 50.00 porcento de dados nulos\n",
      "A feature RES_CHIKS1 possui mais do que 50.00 porcento de dados nulos\n",
      "A feature RES_CHIKS2 possui mais do que 50.00 porcento de dados nulos\n",
      "A feature RESUL_PRNT possui mais do que 50.00 porcento de dados nulos\n",
      "A feature DT_SORO possui mais do que 50.00 porcento de dados nulos\n",
      "A feature DT_NS1 possui mais do que 50.00 porcento de dados nulos\n",
      "A feature DT_VIRAL possui mais do que 50.00 porcento de dados nulos\n",
      "A feature DT_PCR possui mais do que 50.00 porcento de dados nulos\n",
      "A feature SOROTIPO possui mais do que 50.00 porcento de dados nulos\n",
      "A feature DT_INTERNA possui mais do que 50.00 porcento de dados nulos\n",
      "A feature UF possui mais do que 50.00 porcento de dados nulos\n",
      "A feature MUNICIPIO possui mais do que 50.00 porcento de dados nulos\n",
      "A feature TPAUTOCTO possui mais do que 50.00 porcento de dados nulos\n",
      "A feature COUFINF possui mais do que 50.00 porcento de dados nulos\n",
      "A feature COPAISINF possui mais do que 50.00 porcento de dados nulos\n",
      "A feature COMUNINF possui mais do que 50.00 porcento de dados nulos\n",
      "A feature DOENCA_TRA possui mais do que 50.00 porcento de dados nulos\n",
      "A feature CLINC_CHIK possui mais do que 50.00 porcento de dados nulos\n",
      "A feature DT_OBITO possui mais do que 50.00 porcento de dados nulos\n",
      "A feature ALRM_HIPOT possui mais do que 50.00 porcento de dados nulos\n",
      "A feature ALRM_PLAQ possui mais do que 50.00 porcento de dados nulos\n",
      "A feature ALRM_VOM possui mais do que 50.00 porcento de dados nulos\n",
      "A feature ALRM_SANG possui mais do que 50.00 porcento de dados nulos\n",
      "A feature ALRM_HEMAT possui mais do que 50.00 porcento de dados nulos\n",
      "A feature ALRM_ABDOM possui mais do que 50.00 porcento de dados nulos\n",
      "A feature ALRM_LETAR possui mais do que 50.00 porcento de dados nulos\n",
      "A feature ALRM_HEPAT possui mais do que 50.00 porcento de dados nulos\n",
      "A feature ALRM_LIQ possui mais do que 50.00 porcento de dados nulos\n",
      "A feature DT_ALRM possui mais do que 50.00 porcento de dados nulos\n",
      "A feature GRAV_PULSO possui mais do que 50.00 porcento de dados nulos\n",
      "A feature GRAV_CONV possui mais do que 50.00 porcento de dados nulos\n",
      "A feature GRAV_ENCH possui mais do que 50.00 porcento de dados nulos\n",
      "A feature GRAV_INSUF possui mais do que 50.00 porcento de dados nulos\n",
      "A feature GRAV_TAQUI possui mais do que 50.00 porcento de dados nulos\n",
      "A feature GRAV_EXTRE possui mais do que 50.00 porcento de dados nulos\n",
      "A feature GRAV_HIPOT possui mais do que 50.00 porcento de dados nulos\n",
      "A feature GRAV_HEMAT possui mais do que 50.00 porcento de dados nulos\n",
      "A feature GRAV_MELEN possui mais do que 50.00 porcento de dados nulos\n",
      "A feature GRAV_METRO possui mais do que 50.00 porcento de dados nulos\n",
      "A feature GRAV_SANG possui mais do que 50.00 porcento de dados nulos\n",
      "A feature GRAV_AST possui mais do que 50.00 porcento de dados nulos\n",
      "A feature GRAV_MIOC possui mais do que 50.00 porcento de dados nulos\n",
      "A feature GRAV_CONSC possui mais do que 50.00 porcento de dados nulos\n",
      "A feature GRAV_ORGAO possui mais do que 50.00 porcento de dados nulos\n",
      "A feature DT_GRAV possui mais do que 50.00 porcento de dados nulos\n",
      "A feature MANI_HEMOR possui mais do que 50.00 porcento de dados nulos\n",
      "A feature EPISTAXE possui mais do que 50.00 porcento de dados nulos\n",
      "A feature GENGIVO possui mais do que 50.00 porcento de dados nulos\n",
      "A feature METRO possui mais do que 50.00 porcento de dados nulos\n",
      "A feature PETEQUIAS possui mais do que 50.00 porcento de dados nulos\n",
      "A feature HEMATURA possui mais do que 50.00 porcento de dados nulos\n",
      "A feature SANGRAM possui mais do que 50.00 porcento de dados nulos\n",
      "A feature LACO_N possui mais do que 50.00 porcento de dados nulos\n",
      "A feature PLASMATICO possui mais do que 50.00 porcento de dados nulos\n",
      "A feature EVIDENCIA possui mais do que 50.00 porcento de dados nulos\n",
      "A feature PLAQ_MENOR possui mais do que 50.00 porcento de dados nulos\n",
      "A feature CON_FHD possui mais do que 50.00 porcento de dados nulos\n",
      "A feature COMPLICA possui mais do que 50.00 porcento de dados nulos\n",
      "A feature NDUPLIC_N possui mais do que 50.00 porcento de dados nulos\n",
      "A feature FLXRECEBI possui mais do que 50.00 porcento de dados nulos\n"
     ]
    },
    {
     "name": "stderr",
     "output_type": "stream",
     "text": [
      "/tmp/ipykernel_105150/2161902852.py:13: FutureWarning: Series.__getitem__ treating keys as positions is deprecated. In a future version, integer keys will always be treated as labels (consistent with DataFrame behavior). To access a value by position, use `ser.iloc[pos]`\n",
      "  if(porcent_df_null[i]>target_clean):\n"
     ]
    }
   ],
   "source": [
    "target_clean = 0.5\n",
    "col_ok       = []\n",
    "verificacao_nulos(df_full,target_clean,col_ok)"
   ]
  },
  {
   "cell_type": "code",
   "execution_count": null,
   "metadata": {
    "id": "r18JbGv-uhvt"
   },
   "outputs": [],
   "source": []
  },
  {
   "cell_type": "code",
   "execution_count": null,
   "metadata": {},
   "outputs": [],
   "source": []
  }
 ],
 "metadata": {
  "colab": {
   "authorship_tag": "ABX9TyPGDooIhM2rQta2Rk8x0YbZ",
   "provenance": []
  },
  "kernelspec": {
   "display_name": "Python 3 (ipykernel)",
   "language": "python",
   "name": "python3"
  },
  "language_info": {
   "codemirror_mode": {
    "name": "ipython",
    "version": 3
   },
   "file_extension": ".py",
   "mimetype": "text/x-python",
   "name": "python",
   "nbconvert_exporter": "python",
   "pygments_lexer": "ipython3",
   "version": "3.12.7"
  }
 },
 "nbformat": 4,
 "nbformat_minor": 4
}
